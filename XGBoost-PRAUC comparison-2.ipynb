{
 "cells": [
  {
   "cell_type": "code",
   "execution_count": 4,
   "id": "b755c702",
   "metadata": {},
   "outputs": [],
   "source": [
    "# Import libraries\n",
    "\n",
    "import warnings\n",
    "warnings.filterwarnings(\"ignore\")\n",
    "import pandas as pd\n",
    "import numpy as np\n",
    "import seaborn as sns\n",
    "import matplotlib.pyplot as plt\n",
    "\n",
    "\n",
    "from sklearn.pipeline import Pipeline\n",
    "from sklearn.linear_model import LogisticRegression\n",
    "from sklearn.preprocessing import MinMaxScaler\n",
    "from sklearn.preprocessing import StandardScaler"
   ]
  },
  {
   "cell_type": "code",
   "execution_count": 5,
   "id": "a770c875",
   "metadata": {},
   "outputs": [],
   "source": [
    "# Import Data\n",
    "X_train= pd.read_csv('/Users/cuicuisong/Desktop/data/train_all_feature.csv',  index_col=0)\n",
    "X_test= pd.read_csv('/Users/cuicuisong/Desktop/data/test_all_feature.csv',  index_col=0)\n",
    "y_train= pd.read_csv('/Users/cuicuisong/Desktop/data/y_train_new.csv')\n",
    "y_test= pd.read_csv('/Users/cuicuisong/Desktop/data/y_test_new.csv')\n"
   ]
  },
  {
   "cell_type": "code",
   "execution_count": 6,
   "id": "0bc8f5e6",
   "metadata": {},
   "outputs": [
    {
     "data": {
      "text/html": [
       "<div>\n",
       "<style scoped>\n",
       "    .dataframe tbody tr th:only-of-type {\n",
       "        vertical-align: middle;\n",
       "    }\n",
       "\n",
       "    .dataframe tbody tr th {\n",
       "        vertical-align: top;\n",
       "    }\n",
       "\n",
       "    .dataframe thead th {\n",
       "        text-align: right;\n",
       "    }\n",
       "</style>\n",
       "<table border=\"1\" class=\"dataframe\">\n",
       "  <thead>\n",
       "    <tr style=\"text-align: right;\">\n",
       "      <th></th>\n",
       "      <th>DeductibleAmtPaid_mean</th>\n",
       "      <th>DeductibleAmtPaid_max</th>\n",
       "      <th>NoOfMonths_PartACov_mean</th>\n",
       "      <th>NoOfMonths_PartBCov_mean</th>\n",
       "      <th>OPAnnualReimbursementAmt_mean</th>\n",
       "      <th>OPAnnualReimbursementAmt_max</th>\n",
       "      <th>OPAnnualReimbursementAmt_sum</th>\n",
       "      <th>OPAnnualDeductibleAmt_mean</th>\n",
       "      <th>OPAnnualDeductibleAmt_max</th>\n",
       "      <th>OPAnnualDeductibleAmt_sum</th>\n",
       "      <th>...</th>\n",
       "      <th>totalProcCode_3722</th>\n",
       "      <th>totalProcCode_8151</th>\n",
       "      <th>totalProcCode_8872</th>\n",
       "      <th>totalProcCode_9671</th>\n",
       "      <th>totalProcCode_4513</th>\n",
       "      <th>totalProcCode_5849</th>\n",
       "      <th>totalProcCode_9390</th>\n",
       "      <th>totalProcCode_Other</th>\n",
       "      <th>TotalTeDiagCode</th>\n",
       "      <th>TotalTeProcCode</th>\n",
       "    </tr>\n",
       "    <tr>\n",
       "      <th>Provider</th>\n",
       "      <th></th>\n",
       "      <th></th>\n",
       "      <th></th>\n",
       "      <th></th>\n",
       "      <th></th>\n",
       "      <th></th>\n",
       "      <th></th>\n",
       "      <th></th>\n",
       "      <th></th>\n",
       "      <th></th>\n",
       "      <th></th>\n",
       "      <th></th>\n",
       "      <th></th>\n",
       "      <th></th>\n",
       "      <th></th>\n",
       "      <th></th>\n",
       "      <th></th>\n",
       "      <th></th>\n",
       "      <th></th>\n",
       "      <th></th>\n",
       "      <th></th>\n",
       "    </tr>\n",
       "  </thead>\n",
       "  <tbody>\n",
       "    <tr>\n",
       "      <th>PRV51001</th>\n",
       "      <td>213.600000</td>\n",
       "      <td>1068.0</td>\n",
       "      <td>12.000000</td>\n",
       "      <td>12.000000</td>\n",
       "      <td>2615.200000</td>\n",
       "      <td>13460</td>\n",
       "      <td>65380</td>\n",
       "      <td>463.920000</td>\n",
       "      <td>2700</td>\n",
       "      <td>11598</td>\n",
       "      <td>...</td>\n",
       "      <td>0</td>\n",
       "      <td>0</td>\n",
       "      <td>0</td>\n",
       "      <td>0</td>\n",
       "      <td>0</td>\n",
       "      <td>0</td>\n",
       "      <td>0</td>\n",
       "      <td>125</td>\n",
       "      <td>1.166158</td>\n",
       "      <td>1.186518</td>\n",
       "    </tr>\n",
       "    <tr>\n",
       "      <th>PRV51004</th>\n",
       "      <td>2.080537</td>\n",
       "      <td>100.0</td>\n",
       "      <td>11.865772</td>\n",
       "      <td>11.959732</td>\n",
       "      <td>2194.899329</td>\n",
       "      <td>20900</td>\n",
       "      <td>327040</td>\n",
       "      <td>622.751678</td>\n",
       "      <td>7410</td>\n",
       "      <td>92790</td>\n",
       "      <td>...</td>\n",
       "      <td>0</td>\n",
       "      <td>0</td>\n",
       "      <td>0</td>\n",
       "      <td>0</td>\n",
       "      <td>0</td>\n",
       "      <td>0</td>\n",
       "      <td>0</td>\n",
       "      <td>745</td>\n",
       "      <td>1.144495</td>\n",
       "      <td>1.161067</td>\n",
       "    </tr>\n",
       "    <tr>\n",
       "      <th>PRV51005</th>\n",
       "      <td>3.175966</td>\n",
       "      <td>200.0</td>\n",
       "      <td>11.907296</td>\n",
       "      <td>11.939914</td>\n",
       "      <td>2109.733906</td>\n",
       "      <td>97510</td>\n",
       "      <td>2457840</td>\n",
       "      <td>636.328755</td>\n",
       "      <td>6330</td>\n",
       "      <td>741323</td>\n",
       "      <td>...</td>\n",
       "      <td>0</td>\n",
       "      <td>0</td>\n",
       "      <td>0</td>\n",
       "      <td>0</td>\n",
       "      <td>0</td>\n",
       "      <td>0</td>\n",
       "      <td>0</td>\n",
       "      <td>5825</td>\n",
       "      <td>1.174065</td>\n",
       "      <td>1.161067</td>\n",
       "    </tr>\n",
       "    <tr>\n",
       "      <th>PRV51008</th>\n",
       "      <td>53.860465</td>\n",
       "      <td>1068.0</td>\n",
       "      <td>12.000000</td>\n",
       "      <td>12.000000</td>\n",
       "      <td>2570.465116</td>\n",
       "      <td>20500</td>\n",
       "      <td>110530</td>\n",
       "      <td>616.046512</td>\n",
       "      <td>4140</td>\n",
       "      <td>26490</td>\n",
       "      <td>...</td>\n",
       "      <td>0</td>\n",
       "      <td>0</td>\n",
       "      <td>0</td>\n",
       "      <td>0</td>\n",
       "      <td>0</td>\n",
       "      <td>0</td>\n",
       "      <td>0</td>\n",
       "      <td>215</td>\n",
       "      <td>1.144524</td>\n",
       "      <td>1.163394</td>\n",
       "    </tr>\n",
       "    <tr>\n",
       "      <th>PRV51011</th>\n",
       "      <td>23.586207</td>\n",
       "      <td>1068.0</td>\n",
       "      <td>12.000000</td>\n",
       "      <td>12.000000</td>\n",
       "      <td>1399.310345</td>\n",
       "      <td>6340</td>\n",
       "      <td>81160</td>\n",
       "      <td>366.724138</td>\n",
       "      <td>1070</td>\n",
       "      <td>21270</td>\n",
       "      <td>...</td>\n",
       "      <td>0</td>\n",
       "      <td>0</td>\n",
       "      <td>0</td>\n",
       "      <td>0</td>\n",
       "      <td>0</td>\n",
       "      <td>0</td>\n",
       "      <td>0</td>\n",
       "      <td>290</td>\n",
       "      <td>1.141459</td>\n",
       "      <td>1.161067</td>\n",
       "    </tr>\n",
       "  </tbody>\n",
       "</table>\n",
       "<p>5 rows × 104 columns</p>\n",
       "</div>"
      ],
      "text/plain": [
       "          DeductibleAmtPaid_mean  DeductibleAmtPaid_max  \\\n",
       "Provider                                                  \n",
       "PRV51001              213.600000                 1068.0   \n",
       "PRV51004                2.080537                  100.0   \n",
       "PRV51005                3.175966                  200.0   \n",
       "PRV51008               53.860465                 1068.0   \n",
       "PRV51011               23.586207                 1068.0   \n",
       "\n",
       "          NoOfMonths_PartACov_mean  NoOfMonths_PartBCov_mean  \\\n",
       "Provider                                                       \n",
       "PRV51001                 12.000000                 12.000000   \n",
       "PRV51004                 11.865772                 11.959732   \n",
       "PRV51005                 11.907296                 11.939914   \n",
       "PRV51008                 12.000000                 12.000000   \n",
       "PRV51011                 12.000000                 12.000000   \n",
       "\n",
       "          OPAnnualReimbursementAmt_mean  OPAnnualReimbursementAmt_max  \\\n",
       "Provider                                                                \n",
       "PRV51001                    2615.200000                         13460   \n",
       "PRV51004                    2194.899329                         20900   \n",
       "PRV51005                    2109.733906                         97510   \n",
       "PRV51008                    2570.465116                         20500   \n",
       "PRV51011                    1399.310345                          6340   \n",
       "\n",
       "          OPAnnualReimbursementAmt_sum  OPAnnualDeductibleAmt_mean  \\\n",
       "Provider                                                             \n",
       "PRV51001                         65380                  463.920000   \n",
       "PRV51004                        327040                  622.751678   \n",
       "PRV51005                       2457840                  636.328755   \n",
       "PRV51008                        110530                  616.046512   \n",
       "PRV51011                         81160                  366.724138   \n",
       "\n",
       "          OPAnnualDeductibleAmt_max  OPAnnualDeductibleAmt_sum  ...  \\\n",
       "Provider                                                        ...   \n",
       "PRV51001                       2700                      11598  ...   \n",
       "PRV51004                       7410                      92790  ...   \n",
       "PRV51005                       6330                     741323  ...   \n",
       "PRV51008                       4140                      26490  ...   \n",
       "PRV51011                       1070                      21270  ...   \n",
       "\n",
       "          totalProcCode_3722  totalProcCode_8151  totalProcCode_8872  \\\n",
       "Provider                                                               \n",
       "PRV51001                   0                   0                   0   \n",
       "PRV51004                   0                   0                   0   \n",
       "PRV51005                   0                   0                   0   \n",
       "PRV51008                   0                   0                   0   \n",
       "PRV51011                   0                   0                   0   \n",
       "\n",
       "          totalProcCode_9671  totalProcCode_4513  totalProcCode_5849  \\\n",
       "Provider                                                               \n",
       "PRV51001                   0                   0                   0   \n",
       "PRV51004                   0                   0                   0   \n",
       "PRV51005                   0                   0                   0   \n",
       "PRV51008                   0                   0                   0   \n",
       "PRV51011                   0                   0                   0   \n",
       "\n",
       "          totalProcCode_9390  totalProcCode_Other  TotalTeDiagCode  \\\n",
       "Provider                                                             \n",
       "PRV51001                   0                  125         1.166158   \n",
       "PRV51004                   0                  745         1.144495   \n",
       "PRV51005                   0                 5825         1.174065   \n",
       "PRV51008                   0                  215         1.144524   \n",
       "PRV51011                   0                  290         1.141459   \n",
       "\n",
       "          TotalTeProcCode  \n",
       "Provider                   \n",
       "PRV51001         1.186518  \n",
       "PRV51004         1.161067  \n",
       "PRV51005         1.161067  \n",
       "PRV51008         1.163394  \n",
       "PRV51011         1.161067  \n",
       "\n",
       "[5 rows x 104 columns]"
      ]
     },
     "execution_count": 6,
     "metadata": {},
     "output_type": "execute_result"
    }
   ],
   "source": [
    "X_train.head()"
   ]
  },
  {
   "cell_type": "code",
   "execution_count": 7,
   "id": "e16d1f1c",
   "metadata": {},
   "outputs": [
    {
     "data": {
      "text/plain": [
       "(4328, 104)"
      ]
     },
     "metadata": {},
     "output_type": "display_data"
    },
    {
     "data": {
      "text/plain": [
       "(1082, 104)"
      ]
     },
     "metadata": {},
     "output_type": "display_data"
    },
    {
     "data": {
      "text/plain": [
       "(4328, 1)"
      ]
     },
     "metadata": {},
     "output_type": "display_data"
    },
    {
     "data": {
      "text/plain": [
       "(1082, 1)"
      ]
     },
     "metadata": {},
     "output_type": "display_data"
    }
   ],
   "source": [
    "display(X_train.shape,X_test.shape,y_train.shape,y_test.shape)"
   ]
  },
  {
   "cell_type": "code",
   "execution_count": 8,
   "id": "35632b85",
   "metadata": {},
   "outputs": [],
   "source": [
    "# fill NA as 0, X_test has two null values\n",
    "X_test.fillna(0,inplace=True)"
   ]
  },
  {
   "cell_type": "code",
   "execution_count": 9,
   "id": "d51eb495",
   "metadata": {},
   "outputs": [],
   "source": [
    "from xgboost import XGBClassifier\n",
    "from xgboost import plot_importance\n",
    "from sklearn.metrics import classification_report\n",
    "from sklearn.metrics import confusion_matrix\n",
    "from sklearn.metrics import classification_report\n",
    "from sklearn.metrics import precision_score, recall_score, f1_score, accuracy_score,roc_auc_score\n",
    "from sklearn.decomposition import PCA"
   ]
  },
  {
   "cell_type": "markdown",
   "id": "b9872143",
   "metadata": {},
   "source": [
    "#### II. Avoid overfitting: early stopping ––––  Does not work"
   ]
  },
  {
   "cell_type": "code",
   "execution_count": 10,
   "id": "1648e5d4",
   "metadata": {},
   "outputs": [
    {
     "name": "stdout",
     "output_type": "stream",
     "text": [
      "[0]\tvalidation_0-logloss:0.46265\n",
      "[1]\tvalidation_0-logloss:0.33103\n",
      "[2]\tvalidation_0-logloss:0.24630\n",
      "[3]\tvalidation_0-logloss:0.18674\n",
      "[4]\tvalidation_0-logloss:0.14701\n",
      "[5]\tvalidation_0-logloss:0.11542\n",
      "[6]\tvalidation_0-logloss:0.09120\n",
      "[7]\tvalidation_0-logloss:0.07442\n",
      "[8]\tvalidation_0-logloss:0.06064\n",
      "[9]\tvalidation_0-logloss:0.05113\n",
      "[10]\tvalidation_0-logloss:0.04440\n",
      "[11]\tvalidation_0-logloss:0.03862\n",
      "[12]\tvalidation_0-logloss:0.03317\n",
      "[13]\tvalidation_0-logloss:0.02811\n",
      "[14]\tvalidation_0-logloss:0.02485\n",
      "[15]\tvalidation_0-logloss:0.02310\n",
      "[16]\tvalidation_0-logloss:0.02129\n",
      "[17]\tvalidation_0-logloss:0.01915\n",
      "[18]\tvalidation_0-logloss:0.01736\n",
      "[19]\tvalidation_0-logloss:0.01563\n",
      "[20]\tvalidation_0-logloss:0.01387\n",
      "[21]\tvalidation_0-logloss:0.01269\n",
      "[22]\tvalidation_0-logloss:0.01168\n",
      "[23]\tvalidation_0-logloss:0.01073\n",
      "[24]\tvalidation_0-logloss:0.00980\n",
      "[25]\tvalidation_0-logloss:0.00927\n",
      "[26]\tvalidation_0-logloss:0.00862\n",
      "[27]\tvalidation_0-logloss:0.00810\n",
      "[28]\tvalidation_0-logloss:0.00756\n",
      "[29]\tvalidation_0-logloss:0.00714\n",
      "[30]\tvalidation_0-logloss:0.00678\n",
      "[31]\tvalidation_0-logloss:0.00653\n",
      "[32]\tvalidation_0-logloss:0.00624\n",
      "[33]\tvalidation_0-logloss:0.00596\n",
      "[34]\tvalidation_0-logloss:0.00565\n",
      "[35]\tvalidation_0-logloss:0.00536\n",
      "[36]\tvalidation_0-logloss:0.00514\n",
      "[37]\tvalidation_0-logloss:0.00495\n",
      "[38]\tvalidation_0-logloss:0.00476\n",
      "[39]\tvalidation_0-logloss:0.00458\n",
      "[40]\tvalidation_0-logloss:0.00444\n",
      "[41]\tvalidation_0-logloss:0.00425\n",
      "[42]\tvalidation_0-logloss:0.00411\n",
      "[43]\tvalidation_0-logloss:0.00395\n",
      "[44]\tvalidation_0-logloss:0.00382\n",
      "[45]\tvalidation_0-logloss:0.00371\n",
      "[46]\tvalidation_0-logloss:0.00359\n",
      "[47]\tvalidation_0-logloss:0.00350\n",
      "[48]\tvalidation_0-logloss:0.00339\n",
      "[49]\tvalidation_0-logloss:0.00330\n",
      "[50]\tvalidation_0-logloss:0.00321\n",
      "[51]\tvalidation_0-logloss:0.00315\n",
      "[52]\tvalidation_0-logloss:0.00306\n",
      "[53]\tvalidation_0-logloss:0.00299\n",
      "[54]\tvalidation_0-logloss:0.00294\n",
      "[55]\tvalidation_0-logloss:0.00288\n",
      "[56]\tvalidation_0-logloss:0.00281\n",
      "[57]\tvalidation_0-logloss:0.00275\n",
      "[58]\tvalidation_0-logloss:0.00270\n",
      "[59]\tvalidation_0-logloss:0.00264\n",
      "[60]\tvalidation_0-logloss:0.00259\n",
      "[61]\tvalidation_0-logloss:0.00254\n",
      "[62]\tvalidation_0-logloss:0.00250\n",
      "[63]\tvalidation_0-logloss:0.00246\n",
      "[64]\tvalidation_0-logloss:0.00242\n",
      "[65]\tvalidation_0-logloss:0.00238\n",
      "[66]\tvalidation_0-logloss:0.00234\n",
      "[67]\tvalidation_0-logloss:0.00231\n",
      "[68]\tvalidation_0-logloss:0.00227\n",
      "[69]\tvalidation_0-logloss:0.00224\n",
      "[70]\tvalidation_0-logloss:0.00221\n",
      "[71]\tvalidation_0-logloss:0.00216\n",
      "[72]\tvalidation_0-logloss:0.00213\n",
      "[73]\tvalidation_0-logloss:0.00210\n",
      "[74]\tvalidation_0-logloss:0.00207\n",
      "[75]\tvalidation_0-logloss:0.00204\n",
      "[76]\tvalidation_0-logloss:0.00201\n",
      "[77]\tvalidation_0-logloss:0.00198\n",
      "[78]\tvalidation_0-logloss:0.00196\n",
      "[79]\tvalidation_0-logloss:0.00194\n",
      "[80]\tvalidation_0-logloss:0.00192\n",
      "[81]\tvalidation_0-logloss:0.00189\n",
      "[82]\tvalidation_0-logloss:0.00187\n",
      "[83]\tvalidation_0-logloss:0.00185\n",
      "[84]\tvalidation_0-logloss:0.00184\n",
      "[85]\tvalidation_0-logloss:0.00182\n",
      "[86]\tvalidation_0-logloss:0.00180\n",
      "[87]\tvalidation_0-logloss:0.00177\n",
      "[88]\tvalidation_0-logloss:0.00175\n",
      "[89]\tvalidation_0-logloss:0.00173\n",
      "[90]\tvalidation_0-logloss:0.00172\n",
      "[91]\tvalidation_0-logloss:0.00170\n",
      "[92]\tvalidation_0-logloss:0.00169\n",
      "[93]\tvalidation_0-logloss:0.00167\n",
      "[94]\tvalidation_0-logloss:0.00166\n",
      "[95]\tvalidation_0-logloss:0.00165\n",
      "[96]\tvalidation_0-logloss:0.00163\n",
      "[97]\tvalidation_0-logloss:0.00162\n",
      "[98]\tvalidation_0-logloss:0.00160\n",
      "[99]\tvalidation_0-logloss:0.00159\n",
      "Accuracy: 100.00%\n"
     ]
    }
   ],
   "source": [
    "model = XGBClassifier()\n",
    "eval_set = [(X_train, y_train)]\n",
    "model.fit(X_train, y_train, early_stopping_rounds=10, eval_metric=\"logloss\", eval_set=eval_set, verbose=True)\n",
    "# make predictions for test data\n",
    "y_pred_train = model.predict(X_train)\n",
    "predictions_train = [round(value) for value in y_pred_train]\n",
    "# evaluate predictions\n",
    "accuracy = accuracy_score(y_train, predictions_train)\n",
    "print(\"Accuracy: %.2f%%\" % (accuracy * 100.0))"
   ]
  },
  {
   "cell_type": "code",
   "execution_count": 11,
   "id": "1b693fe3",
   "metadata": {},
   "outputs": [
    {
     "name": "stdout",
     "output_type": "stream",
     "text": [
      "[0]\tvalidation_0-logloss:0.49148\n",
      "[1]\tvalidation_0-logloss:0.38613\n",
      "[2]\tvalidation_0-logloss:0.32535\n",
      "[3]\tvalidation_0-logloss:0.28964\n",
      "[4]\tvalidation_0-logloss:0.27331\n",
      "[5]\tvalidation_0-logloss:0.26678\n",
      "[6]\tvalidation_0-logloss:0.26859\n",
      "[7]\tvalidation_0-logloss:0.27632\n",
      "[8]\tvalidation_0-logloss:0.28495\n",
      "[9]\tvalidation_0-logloss:0.29470\n",
      "[10]\tvalidation_0-logloss:0.30295\n",
      "[11]\tvalidation_0-logloss:0.31591\n",
      "[12]\tvalidation_0-logloss:0.33000\n",
      "[13]\tvalidation_0-logloss:0.34989\n",
      "[14]\tvalidation_0-logloss:0.36701\n",
      "[15]\tvalidation_0-logloss:0.38083\n",
      "Accuracy: 91.40%\n"
     ]
    }
   ],
   "source": [
    "#fit model on training data\n",
    "model = XGBClassifier()\n",
    "eval_set = [(X_test, y_test)]\n",
    "model.fit(X_train, y_train, early_stopping_rounds=10, eval_metric=\"logloss\", eval_set=eval_set, verbose=True)\n",
    "# make predictions for test data\n",
    "y_pred = model.predict(X_test)\n",
    "predictions = [round(value) for value in y_pred]\n",
    "# evaluate predictions\n",
    "accuracy = accuracy_score(y_test, predictions)\n",
    "print(\"Accuracy: %.2f%%\" % (accuracy * 100.0))\n"
   ]
  },
  {
   "cell_type": "code",
   "execution_count": 12,
   "id": "0ee644b7",
   "metadata": {},
   "outputs": [
    {
     "name": "stdout",
     "output_type": "stream",
     "text": [
      "[0]\tvalidation_0-error:0.08410\n",
      "[1]\tvalidation_0-error:0.08872\n",
      "[2]\tvalidation_0-error:0.08688\n",
      "[3]\tvalidation_0-error:0.08688\n",
      "[4]\tvalidation_0-error:0.08318\n",
      "[5]\tvalidation_0-error:0.08595\n",
      "[6]\tvalidation_0-error:0.08595\n",
      "[7]\tvalidation_0-error:0.09057\n",
      "[8]\tvalidation_0-error:0.09057\n",
      "[9]\tvalidation_0-error:0.09057\n",
      "[10]\tvalidation_0-error:0.09057\n",
      "[11]\tvalidation_0-error:0.09057\n",
      "[12]\tvalidation_0-error:0.09057\n",
      "[13]\tvalidation_0-error:0.09057\n",
      "[14]\tvalidation_0-error:0.09057\n",
      "[15]\tvalidation_0-error:0.09150\n",
      "[16]\tvalidation_0-error:0.09057\n",
      "[17]\tvalidation_0-error:0.09150\n",
      "[18]\tvalidation_0-error:0.09150\n",
      "[19]\tvalidation_0-error:0.09150\n",
      "[20]\tvalidation_0-error:0.09150\n",
      "[21]\tvalidation_0-error:0.09242\n",
      "[22]\tvalidation_0-error:0.09242\n",
      "[23]\tvalidation_0-error:0.09242\n",
      "[24]\tvalidation_0-error:0.09242\n",
      "[25]\tvalidation_0-error:0.09242\n",
      "[26]\tvalidation_0-error:0.09242\n",
      "[27]\tvalidation_0-error:0.09242\n",
      "[28]\tvalidation_0-error:0.09242\n",
      "[29]\tvalidation_0-error:0.09242\n",
      "[30]\tvalidation_0-error:0.09242\n",
      "[31]\tvalidation_0-error:0.09242\n",
      "[32]\tvalidation_0-error:0.09242\n",
      "[33]\tvalidation_0-error:0.09242\n",
      "[34]\tvalidation_0-error:0.09242\n",
      "[35]\tvalidation_0-error:0.09242\n",
      "[36]\tvalidation_0-error:0.09242\n",
      "[37]\tvalidation_0-error:0.09242\n",
      "[38]\tvalidation_0-error:0.09242\n",
      "[39]\tvalidation_0-error:0.09242\n",
      "[40]\tvalidation_0-error:0.09242\n",
      "[41]\tvalidation_0-error:0.09242\n",
      "[42]\tvalidation_0-error:0.09242\n",
      "[43]\tvalidation_0-error:0.09242\n",
      "[44]\tvalidation_0-error:0.09242\n",
      "[45]\tvalidation_0-error:0.09242\n",
      "[46]\tvalidation_0-error:0.09242\n",
      "[47]\tvalidation_0-error:0.09242\n",
      "[48]\tvalidation_0-error:0.09242\n",
      "[49]\tvalidation_0-error:0.09242\n",
      "[50]\tvalidation_0-error:0.09242\n",
      "[51]\tvalidation_0-error:0.09242\n",
      "[52]\tvalidation_0-error:0.09242\n",
      "[53]\tvalidation_0-error:0.09242\n",
      "[54]\tvalidation_0-error:0.09242\n",
      "[55]\tvalidation_0-error:0.09242\n",
      "[56]\tvalidation_0-error:0.09242\n",
      "[57]\tvalidation_0-error:0.09242\n",
      "[58]\tvalidation_0-error:0.09242\n",
      "[59]\tvalidation_0-error:0.09242\n",
      "[60]\tvalidation_0-error:0.09242\n",
      "[61]\tvalidation_0-error:0.09242\n",
      "[62]\tvalidation_0-error:0.09242\n",
      "[63]\tvalidation_0-error:0.09242\n",
      "[64]\tvalidation_0-error:0.09242\n",
      "[65]\tvalidation_0-error:0.09242\n",
      "[66]\tvalidation_0-error:0.09242\n",
      "[67]\tvalidation_0-error:0.09242\n",
      "[68]\tvalidation_0-error:0.09242\n",
      "[69]\tvalidation_0-error:0.09242\n",
      "[70]\tvalidation_0-error:0.09242\n",
      "[71]\tvalidation_0-error:0.09242\n",
      "[72]\tvalidation_0-error:0.09242\n",
      "[73]\tvalidation_0-error:0.09242\n",
      "[74]\tvalidation_0-error:0.09242\n",
      "[75]\tvalidation_0-error:0.09242\n",
      "[76]\tvalidation_0-error:0.09242\n",
      "[77]\tvalidation_0-error:0.09242\n",
      "[78]\tvalidation_0-error:0.09242\n",
      "[79]\tvalidation_0-error:0.09242\n",
      "[80]\tvalidation_0-error:0.09242\n",
      "[81]\tvalidation_0-error:0.09242\n",
      "[82]\tvalidation_0-error:0.09242\n",
      "[83]\tvalidation_0-error:0.09242\n",
      "[84]\tvalidation_0-error:0.09242\n",
      "[85]\tvalidation_0-error:0.09242\n",
      "[86]\tvalidation_0-error:0.09335\n",
      "[87]\tvalidation_0-error:0.09335\n",
      "[88]\tvalidation_0-error:0.09335\n",
      "[89]\tvalidation_0-error:0.09335\n",
      "[90]\tvalidation_0-error:0.09335\n",
      "[91]\tvalidation_0-error:0.09335\n",
      "[92]\tvalidation_0-error:0.09335\n",
      "[93]\tvalidation_0-error:0.09335\n",
      "[94]\tvalidation_0-error:0.09335\n",
      "[95]\tvalidation_0-error:0.09335\n",
      "[96]\tvalidation_0-error:0.09335\n",
      "[97]\tvalidation_0-error:0.09335\n",
      "[98]\tvalidation_0-error:0.09242\n",
      "[99]\tvalidation_0-error:0.09242\n"
     ]
    }
   ],
   "source": [
    "model = XGBClassifier()\n",
    "eval_set = [(X_test, y_test)]\n",
    "model.fit(X_train, y_train, eval_metric=\"error\", eval_set=eval_set, verbose=True)\n",
    "# make predictions for train data\n",
    "y_train_pred = model.predict(X_train)\n",
    "predictions_train = [round(val) for val in y_train_pred]\n",
    "\n",
    "# make predictions for test data\n",
    "y_test_pred = model.predict(X_test)\n",
    "predictions_test = [round(value) for value in y_test_pred]\n"
   ]
  },
  {
   "cell_type": "code",
   "execution_count": 13,
   "id": "44cbe0f0",
   "metadata": {},
   "outputs": [
    {
     "name": "stdout",
     "output_type": "stream",
     "text": [
      "Training Accuracy Score: 1.000\n",
      "Testinging Accuracy Score: 0.908\n"
     ]
    }
   ],
   "source": [
    "print('Training Accuracy Score: {0:.3f}'.format(accuracy_score(y_train, predictions_train)))\n",
    "print('Testinging Accuracy Score: {0:.3f}'.format(accuracy_score(y_test, predictions_test)))"
   ]
  },
  {
   "cell_type": "code",
   "execution_count": 14,
   "id": "c07e6f4a",
   "metadata": {},
   "outputs": [
    {
     "name": "stdout",
     "output_type": "stream",
     "text": [
      "---------------------Train Classification Report--------------------------------\n",
      "\n",
      "              precision    recall  f1-score   support\n",
      "\n",
      "           0       1.00      1.00      1.00      3925\n",
      "           1       1.00      1.00      1.00       403\n",
      "\n",
      "    accuracy                           1.00      4328\n",
      "   macro avg       1.00      1.00      1.00      4328\n",
      "weighted avg       1.00      1.00      1.00      4328\n",
      "\n",
      "---------------------Test Classification Report--------------------------------\n",
      "\n",
      "              precision    recall  f1-score   support\n",
      "\n",
      "           0       0.91      1.00      0.95       979\n",
      "           1       1.00      0.03      0.06       103\n",
      "\n",
      "    accuracy                           0.91      1082\n",
      "   macro avg       0.95      0.51      0.50      1082\n",
      "weighted avg       0.92      0.91      0.87      1082\n",
      "\n"
     ]
    }
   ],
   "source": [
    "print('---------------------Train Classification Report--------------------------------\\n')\n",
    "print(classification_report(y_train, predictions_train))\n",
    "print('---------------------Test Classification Report--------------------------------\\n')\n",
    "print(classification_report(y_test, predictions_test))"
   ]
  },
  {
   "cell_type": "markdown",
   "id": "2189d3c6",
   "metadata": {},
   "source": [
    "#### I. Baseline Model"
   ]
  },
  {
   "cell_type": "code",
   "execution_count": 15,
   "id": "2b2bdf5b",
   "metadata": {},
   "outputs": [],
   "source": [
    "xgb_model = XGBClassifier()"
   ]
  },
  {
   "cell_type": "code",
   "execution_count": 16,
   "id": "be0674c3",
   "metadata": {},
   "outputs": [],
   "source": [
    "xgb_steps = [('rescale', StandardScaler()), \n",
    "            ('xgbc', XGBClassifier())]\n",
    "xgb_model = Pipeline(xgb_steps)\n",
    "xgb_model = xgb_model.fit(X_train,y_train)   #criterion = 'gini'"
   ]
  },
  {
   "cell_type": "code",
   "execution_count": 17,
   "id": "661d7e5b",
   "metadata": {},
   "outputs": [],
   "source": [
    "y_train_pred = xgb_model.predict(X_train)\n",
    "y_test_pred = xgb_model.predict(X_test)"
   ]
  },
  {
   "cell_type": "markdown",
   "id": "dbf3075c",
   "metadata": {},
   "source": [
    "#### Metrics"
   ]
  },
  {
   "cell_type": "code",
   "execution_count": 18,
   "id": "c0e84088",
   "metadata": {},
   "outputs": [
    {
     "name": "stdout",
     "output_type": "stream",
     "text": [
      "Training Accuracy Score: 1.000\n",
      "Testinging Accuracy Score: 0.908\n"
     ]
    }
   ],
   "source": [
    "print('Training Accuracy Score: {0:.3f}'.format(accuracy_score(y_train, y_train_pred)))\n",
    "print('Testinging Accuracy Score: {0:.3f}'.format(accuracy_score(y_test, y_test_pred)))"
   ]
  },
  {
   "cell_type": "code",
   "execution_count": 19,
   "id": "c85a2b39",
   "metadata": {},
   "outputs": [
    {
     "name": "stdout",
     "output_type": "stream",
     "text": [
      "---------------------Train Classification Report--------------------------------\n",
      "\n",
      "              precision    recall  f1-score   support\n",
      "\n",
      "           0       1.00      1.00      1.00      3925\n",
      "           1       1.00      1.00      1.00       403\n",
      "\n",
      "    accuracy                           1.00      4328\n",
      "   macro avg       1.00      1.00      1.00      4328\n",
      "weighted avg       1.00      1.00      1.00      4328\n",
      "\n",
      "---------------------Test Classification Report--------------------------------\n",
      "\n",
      "              precision    recall  f1-score   support\n",
      "\n",
      "           0       0.91      1.00      0.95       979\n",
      "           1       1.00      0.03      0.06       103\n",
      "\n",
      "    accuracy                           0.91      1082\n",
      "   macro avg       0.95      0.51      0.50      1082\n",
      "weighted avg       0.92      0.91      0.87      1082\n",
      "\n"
     ]
    }
   ],
   "source": [
    "print('---------------------Train Classification Report--------------------------------\\n')\n",
    "print(classification_report(y_train, y_train_pred))\n",
    "print('---------------------Test Classification Report--------------------------------\\n')\n",
    "print(classification_report(y_test, y_test_pred))"
   ]
  },
  {
   "cell_type": "code",
   "execution_count": 20,
   "id": "3ec09f49",
   "metadata": {},
   "outputs": [],
   "source": [
    "y_train_proba = xgb_model.predict_proba(X_train)\n",
    "y_test_proba = xgb_model.predict_proba(X_test)"
   ]
  },
  {
   "cell_type": "code",
   "execution_count": 21,
   "id": "3da43383",
   "metadata": {},
   "outputs": [
    {
     "name": "stdout",
     "output_type": "stream",
     "text": [
      "roc_auc_score for the train dataset: 1.00\n",
      "roc_auc_score for the test dataset: 0.81\n"
     ]
    }
   ],
   "source": [
    "roc_auc_score_train = roc_auc_score(y_train, xgb_model.predict_proba(X_train)[:, 1])  \n",
    "roc_auc_score_test = roc_auc_score(y_test, xgb_model.predict_proba(X_test)[:, 1])\n",
    "print('roc_auc_score for the train dataset: {:.2f}'.format(roc_auc_score_train))\n",
    "print('roc_auc_score for the test dataset: {:.2f}'.format(roc_auc_score_test))"
   ]
  },
  {
   "cell_type": "code",
   "execution_count": 22,
   "id": "6e369a13",
   "metadata": {},
   "outputs": [
    {
     "data": {
      "text/plain": [
       "Text(0.5, 1.0, 'Test ROC Curve')"
      ]
     },
     "execution_count": 22,
     "metadata": {},
     "output_type": "execute_result"
    },
    {
     "data": {
      "text/plain": [
       "<Figure size 432x288 with 0 Axes>"
      ]
     },
     "metadata": {},
     "output_type": "display_data"
    },
    {
     "data": {
      "image/png": "[encoded data removed]",
      "text/plain": [
       "<Figure size 432x288 with 1 Axes>"
      ]
     },
     "metadata": {
      "needs_background": "light"
     },
     "output_type": "display_data"
    },
    {
     "data": {
      "image/png": "[encoded data removed]",
      "text/plain": [
       "<Figure size 432x288 with 1 Axes>"
      ]
     },
     "metadata": {
      "needs_background": "light"
     },
     "output_type": "display_data"
    }
   ],
   "source": [
    "from sklearn.metrics import plot_roc_curve \n",
    "\n",
    "plt.figure(1).clf()\n",
    "\n",
    "plot_roc_curve(xgb_model, X_train, y_train)\n",
    "\n",
    "plt.title('Train ROC Curve')\n",
    "\n",
    "plot_roc_curve(xgb_model, X_test, y_test)\n",
    "plt.title('Test ROC Curve')"
   ]
  },
  {
   "cell_type": "code",
   "execution_count": 23,
   "id": "7ac0a01f",
   "metadata": {},
   "outputs": [],
   "source": [
    "# from sklearn.metrics import roc_curve,auc,RocCurveDisplay\n",
    "#y_train_proba=xgb_model.predict_proba(X_train)\n",
    "#fpr, tpr, thresholds = roc_curve(y_train, y_train_proba[:,1])\n",
    "#roc_auc = auc(fpr, tpr)\n",
    "#display = RocCurveDisplay(fpr=fpr, tpr=tpr, roc_auc=roc_auc,\n",
    "                                 # estimator_name='xgb regr')\n",
    "#display.plot()\n",
    "\n",
    "#plt.title('train ROC Curve')\n",
    "#plt.show()"
   ]
  },
  {
   "cell_type": "code",
   "execution_count": 24,
   "id": "117576a9",
   "metadata": {},
   "outputs": [],
   "source": [
    "y_train_score = y_train_proba[:, 1]\n",
    "y_test_score = y_test_proba[:, 1]"
   ]
  },
  {
   "cell_type": "code",
   "execution_count": 25,
   "id": "3bc7687a",
   "metadata": {},
   "outputs": [
    {
     "name": "stdout",
     "output_type": "stream",
     "text": [
      "PR-AUC is 1.00\n"
     ]
    },
    {
     "data": {
      "text/plain": [
       "Text(0.5, 1.0, 'Precision-Recall Curve of Train')"
      ]
     },
     "execution_count": 25,
     "metadata": {},
     "output_type": "execute_result"
    },
    {
     "data": {
      "image/png": "[encoded data removed]",
      "text/plain": [
       "<Figure size 432x288 with 1 Axes>"
      ]
     },
     "metadata": {
      "needs_background": "light"
     },
     "output_type": "display_data"
    }
   ],
   "source": [
    "from sklearn.metrics import precision_recall_curve\n",
    "from sklearn.metrics import auc,plot_precision_recall_curve\n",
    "# https://scikit-learn.org/stable/modules/generated/sklearn.metrics.auc.html\n",
    "\n",
    "# Data to plot precision - recall curve\n",
    "precision_train, recall_train, thresholds_train = precision_recall_curve(y_train, y_train_score)\n",
    "# Use AUC function to calculate the area under the curve of precision recall curve\n",
    "auc_precision_recalltrain = auc(recall_train, precision_train)\n",
    "print('PR-AUC is {:.2f}'.format(auc_precision_recalltrain))\n",
    "\n",
    "# plot PR curve\n",
    "plt.plot(recall_train, precision_train)\n",
    "plt.xlabel('Recall(Positive label:1)')\n",
    "plt.ylabel('Precision(Positive label:1)')\n",
    "plt.title('Precision-Recall Curve of Train')"
   ]
  },
  {
   "cell_type": "code",
   "execution_count": 26,
   "id": "6b4dd9b6",
   "metadata": {
    "scrolled": true
   },
   "outputs": [
    {
     "name": "stdout",
     "output_type": "stream",
     "text": [
      "PR-AUC is 0.45\n"
     ]
    },
    {
     "data": {
      "text/plain": [
       "Text(0.5, 1.0, 'Precision-Recall Curve of Test')"
      ]
     },
     "execution_count": 26,
     "metadata": {},
     "output_type": "execute_result"
    },
    {
     "data": {
      "image/png": "[encoded data removed]",
      "text/plain": [
       "<Figure size 432x288 with 1 Axes>"
      ]
     },
     "metadata": {
      "needs_background": "light"
     },
     "output_type": "display_data"
    }
   ],
   "source": [
    "# Data to plot precision - recall curve\n",
    "precision, recall, thresholds = precision_recall_curve(y_test, y_test_score)\n",
    "# Use AUC function to calculate the area under the curve of precision recall curve\n",
    "auc_precision_recall = auc(recall, precision)\n",
    "print('PR-AUC is {:.2f}'.format(auc_precision_recall))\n",
    "\n",
    "# plot PR curve\n",
    "plt.plot(recall, precision)\n",
    "plt.xlabel('Recall(Positive label:1)')\n",
    "plt.ylabel('Precision(Positive label:1)')\n",
    "plt.title('Precision-Recall Curve of Test')"
   ]
  },
  {
   "cell_type": "markdown",
   "id": "806138d1",
   "metadata": {},
   "source": [
    "#### Feature Importance"
   ]
  },
  {
   "cell_type": "code",
   "execution_count": 27,
   "id": "e7705929",
   "metadata": {},
   "outputs": [],
   "source": [
    "from xgboost import plot_importance\n",
    "from sklearn.feature_selection import SelectFwe, chi2"
   ]
  },
  {
   "cell_type": "code",
   "execution_count": 28,
   "id": "ad528f7a",
   "metadata": {},
   "outputs": [
    {
     "data": {
      "image/png": "[encoded data removed]",
      "text/plain": [
       "<Figure size 1080x432 with 1 Axes>"
      ]
     },
     "metadata": {
      "needs_background": "light"
     },
     "output_type": "display_data"
    }
   ],
   "source": [
    "xgb_importances=xgb_model[1].feature_importances_\n",
    "#xgb_feature_names=xgb_model.feature_names_in_\n",
    "xgb_feature_names = X_train.columns\n",
    "forest_importances = (pd.Series(xgb_importances, index=xgb_feature_names)).sort_values(ascending=False)\n",
    "\n",
    "fig = plt.figure(figsize=(15,6))\n",
    "forest_importances[:50].plot.bar()\n",
    "plt.title(\"Feature importances (XGBClassifier)\")\n",
    "plt.ylabel(\"importance\")\n",
    "plt.xlabel(\"features\")\n",
    "plt.show()"
   ]
  },
  {
   "cell_type": "code",
   "execution_count": 29,
   "id": "6941d572",
   "metadata": {},
   "outputs": [
    {
     "data": {
      "text/plain": [
       "0.65532464"
      ]
     },
     "execution_count": 29,
     "metadata": {},
     "output_type": "execute_result"
    }
   ],
   "source": [
    "xgb_importances[:50].sum()"
   ]
  },
  {
   "cell_type": "code",
   "execution_count": 30,
   "id": "5c265047",
   "metadata": {},
   "outputs": [
    {
     "name": "stdout",
     "output_type": "stream",
     "text": [
      "TotalInscClaimAmtReimbursed           0.271590\n",
      "MaxHospitalDays                       0.090997\n",
      "totalDiagCode_2724                    0.077729\n",
      "OPAnnualReimbursementAmt_sum          0.043109\n",
      "totalDiagCode_41401                   0.034422\n",
      "TotalMediumFreqProcCodeNumPerClaim    0.027166\n",
      "TotalIPAnnualDeductibleAmtdf          0.025729\n",
      "OPAnnualDeductibleAmt_sum             0.023557\n",
      "TotalTeDiagCode                       0.022906\n",
      "MeanProcCodeNumPerClaim               0.020801\n",
      "MeanDiagCodeNumPerClaim               0.017797\n",
      "TotalIPAnnualReimbursementAmt         0.016527\n",
      "MeanHospitalDays                      0.015172\n",
      "TotalRareFreqProcCodeNumPerClaim      0.014148\n",
      "totalDiagCode_V5861                   0.013457\n",
      "ClaimCounts                           0.011829\n",
      "ClmsperBene                           0.011488\n",
      "uniqBeneCount                         0.010588\n",
      "MeanHighFreqDiagCodeNumPerClaim       0.009090\n",
      "totalDiagCode_4019                    0.008761\n",
      "totalDiagCode_2589                    0.008546\n",
      "TotalTeProcCode                       0.008050\n",
      "MedianHospitalDays                    0.007561\n",
      "RenalDiseaseIndicator                 0.007544\n",
      "totalDiagCode_42731                   0.007462\n",
      "MeanMediumFreqDiagCodeNumPerClaim     0.007175\n",
      "DeductibleAmtPaid_mean                0.007137\n",
      "InClmsPct                             0.006560\n",
      "totalDiagCode_53081                   0.006482\n",
      "MaxInscClaimAmtReimbursed             0.006426\n",
      "dtype: float32\n"
     ]
    }
   ],
   "source": [
    "print(forest_importances.nlargest(30))"
   ]
  },
  {
   "cell_type": "code",
   "execution_count": 31,
   "id": "8fc70f08",
   "metadata": {},
   "outputs": [],
   "source": [
    "from sklearn.feature_selection import SelectFromModel"
   ]
  },
  {
   "cell_type": "markdown",
   "id": "fded43c8",
   "metadata": {},
   "source": [
    "##### 1.2 Top 30 features"
   ]
  },
  {
   "cell_type": "code",
   "execution_count": 32,
   "id": "af5051c6",
   "metadata": {},
   "outputs": [
    {
     "name": "stdout",
     "output_type": "stream",
     "text": [
      "30\n"
     ]
    }
   ],
   "source": [
    "pipeline1 = Pipeline([\n",
    "    ('selector', SelectFromModel(estimator=XGBClassifier(), max_features=30, threshold=-np.inf)),\n",
    "    ('regressor',XGBClassifier())\n",
    "])\n",
    "\n",
    "pipeline1.fit(X_train, y_train)\n",
    "\n",
    "selected_features1 = pipeline1['selector'].get_support()\n",
    "print(selected_features1.sum())"
   ]
  },
  {
   "cell_type": "code",
   "execution_count": 33,
   "id": "e2b14658",
   "metadata": {},
   "outputs": [
    {
     "name": "stdout",
     "output_type": "stream",
     "text": [
      "['DeductibleAmtPaid_mean', 'OPAnnualReimbursementAmt_sum', 'OPAnnualDeductibleAmt_sum', 'ClaimCounts', 'RenalDiseaseIndicator', 'uniqBeneCount', 'ClmsperBene', 'TotalInscClaimAmtReimbursed', 'MaxInscClaimAmtReimbursed', 'InClmsPct', 'TotalIPAnnualReimbursementAmt', 'TotalIPAnnualDeductibleAmtdf', 'MaxHospitalDays', 'MedianHospitalDays', 'MeanHospitalDays', 'MeanDiagCodeNumPerClaim', 'MeanProcCodeNumPerClaim', 'MeanHighFreqDiagCodeNumPerClaim', 'MeanMediumFreqDiagCodeNumPerClaim', 'TotalMediumFreqProcCodeNumPerClaim', 'TotalRareFreqProcCodeNumPerClaim', 'totalDiagCode_4019', 'totalDiagCode_2724', 'totalDiagCode_42731', 'totalDiagCode_V5861', 'totalDiagCode_53081', 'totalDiagCode_41401', 'totalDiagCode_2589', 'TotalTeDiagCode', 'TotalTeProcCode']\n"
     ]
    }
   ],
   "source": [
    "selected_features_names1 = X_train.columns[selected_features1].tolist()\n",
    "print(selected_features_names1)"
   ]
  },
  {
   "cell_type": "code",
   "execution_count": 34,
   "id": "a13f900c",
   "metadata": {},
   "outputs": [],
   "source": [
    "X_train_reduced30 = X_train[['DeductibleAmtPaid_mean', 'OPAnnualReimbursementAmt_sum', 'OPAnnualDeductibleAmt_sum', 'ClaimCounts', 'RenalDiseaseIndicator', 'uniqBeneCount', 'ClmsperBene', 'TotalInscClaimAmtReimbursed', 'MaxInscClaimAmtReimbursed', 'InClmsPct', 'TotalIPAnnualReimbursementAmt', 'TotalIPAnnualDeductibleAmtdf', 'MaxHospitalDays', 'MedianHospitalDays', 'MeanHospitalDays', 'MeanDiagCodeNumPerClaim', 'MeanProcCodeNumPerClaim', 'MeanHighFreqDiagCodeNumPerClaim', 'MeanMediumFreqDiagCodeNumPerClaim', 'TotalMediumFreqProcCodeNumPerClaim', 'TotalRareFreqProcCodeNumPerClaim', 'totalDiagCode_4019', 'totalDiagCode_2724', 'totalDiagCode_42731', 'totalDiagCode_V5861', 'totalDiagCode_53081', 'totalDiagCode_41401', 'totalDiagCode_2589', 'TotalTeDiagCode', 'TotalTeProcCode']]"
   ]
  },
  {
   "cell_type": "code",
   "execution_count": 35,
   "id": "ea1a02bd",
   "metadata": {},
   "outputs": [],
   "source": [
    "X_test_reduced30 = X_test[['DeductibleAmtPaid_mean', 'OPAnnualReimbursementAmt_sum', 'OPAnnualDeductibleAmt_sum', 'ClaimCounts', 'RenalDiseaseIndicator', 'uniqBeneCount', 'ClmsperBene', 'TotalInscClaimAmtReimbursed', 'MaxInscClaimAmtReimbursed', 'InClmsPct', 'TotalIPAnnualReimbursementAmt', 'TotalIPAnnualDeductibleAmtdf', 'MaxHospitalDays', 'MedianHospitalDays', 'MeanHospitalDays', 'MeanDiagCodeNumPerClaim', 'MeanProcCodeNumPerClaim', 'MeanHighFreqDiagCodeNumPerClaim', 'MeanMediumFreqDiagCodeNumPerClaim', 'TotalMediumFreqProcCodeNumPerClaim', 'TotalRareFreqProcCodeNumPerClaim', 'totalDiagCode_4019', 'totalDiagCode_2724', 'totalDiagCode_42731', 'totalDiagCode_V5861', 'totalDiagCode_53081', 'totalDiagCode_41401', 'totalDiagCode_2589', 'TotalTeDiagCode', 'TotalTeProcCode']]"
   ]
  },
  {
   "cell_type": "code",
   "execution_count": 36,
   "id": "eb158d55",
   "metadata": {},
   "outputs": [],
   "source": [
    "xgb_steps_reduced30 = [('rescale', MinMaxScaler()), \n",
    "            ('xgbc', XGBClassifier())]\n",
    "xgb_model_reduced30 = Pipeline(xgb_steps_reduced30)\n",
    "xgb_model_reduced30 = xgb_model_reduced30.fit(X_train_reduced30,y_train)"
   ]
  },
  {
   "cell_type": "code",
   "execution_count": 37,
   "id": "81911a4e",
   "metadata": {},
   "outputs": [],
   "source": [
    "y_train_pred_reduced30 = xgb_model_reduced30.predict(X_train_reduced30)\n",
    "y_test_pred_reduced30 = xgb_model_reduced30.predict(X_test_reduced30)"
   ]
  },
  {
   "cell_type": "code",
   "execution_count": 38,
   "id": "e2f605b2",
   "metadata": {},
   "outputs": [
    {
     "name": "stdout",
     "output_type": "stream",
     "text": [
      "---------------------Train Classification Report--------------------------------\n",
      "\n",
      "              precision    recall  f1-score   support\n",
      "\n",
      "           0       1.00      1.00      1.00      3925\n",
      "           1       1.00      1.00      1.00       403\n",
      "\n",
      "    accuracy                           1.00      4328\n",
      "   macro avg       1.00      1.00      1.00      4328\n",
      "weighted avg       1.00      1.00      1.00      4328\n",
      "\n",
      "---------------------Test Classification Report--------------------------------\n",
      "\n",
      "              precision    recall  f1-score   support\n",
      "\n",
      "           0       0.91      1.00      0.95       979\n",
      "           1       1.00      0.01      0.02       103\n",
      "\n",
      "    accuracy                           0.91      1082\n",
      "   macro avg       0.95      0.50      0.48      1082\n",
      "weighted avg       0.91      0.91      0.86      1082\n",
      "\n"
     ]
    }
   ],
   "source": [
    "print('---------------------Train Classification Report--------------------------------\\n')\n",
    "print(classification_report(y_train, y_train_pred_reduced30))\n",
    "print('---------------------Test Classification Report--------------------------------\\n')\n",
    "print(classification_report(y_test, y_test_pred_reduced30))"
   ]
  },
  {
   "cell_type": "code",
   "execution_count": 39,
   "id": "baac8b4d",
   "metadata": {},
   "outputs": [],
   "source": [
    "y_train_proba_reduced30  = xgb_model_reduced30 .predict_proba(X_train_reduced30 )\n",
    "y_test_proba_reduced30  = xgb_model_reduced30 .predict_proba(X_test_reduced30 )"
   ]
  },
  {
   "cell_type": "code",
   "execution_count": 40,
   "id": "06594a8f",
   "metadata": {},
   "outputs": [],
   "source": [
    "y_train_score_reduced30 = y_train_proba_reduced30 [:, 1]\n",
    "y_test_score_reduced30  = y_test_proba_reduced30 [:, 1]"
   ]
  },
  {
   "cell_type": "code",
   "execution_count": 41,
   "id": "1f5a1f6e",
   "metadata": {},
   "outputs": [
    {
     "name": "stdout",
     "output_type": "stream",
     "text": [
      "PR-AUC is 0.29\n"
     ]
    },
    {
     "data": {
      "text/plain": [
       "Text(0.5, 1.0, 'Precision-Recall Curve of Test-30 Features')"
      ]
     },
     "execution_count": 41,
     "metadata": {},
     "output_type": "execute_result"
    },
    {
     "data": {
      "image/png": "[encoded data removed]",
      "text/plain": [
       "<Figure size 432x288 with 1 Axes>"
      ]
     },
     "metadata": {
      "needs_background": "light"
     },
     "output_type": "display_data"
    }
   ],
   "source": [
    "# Data to plot precision - recall curve\n",
    "precision_reduced30, recall_reduced30, thresholds_reduced30 = precision_recall_curve(y_test, y_test_score_reduced30 )\n",
    "# Use AUC function to calculate the area under the curve of precision recall curve\n",
    "auc_precision_recall_reduced30  = auc(recall_reduced30 , precision_reduced30 )\n",
    "print('PR-AUC is {:.2f}'.format(auc_precision_recall_reduced30))\n",
    "\n",
    "# plot PR curve\n",
    "plt.plot(recall_reduced30, precision_reduced30)\n",
    "plt.xlabel('Recall(Positive label:1)')\n",
    "plt.ylabel('Precision(Positive label:1)')\n",
    "plt.title('Precision-Recall Curve of Test-30 Features')"
   ]
  },
  {
   "cell_type": "markdown",
   "id": "176fe77e",
   "metadata": {},
   "source": [
    "#### 1.3 Selected top 50 features"
   ]
  },
  {
   "cell_type": "code",
   "execution_count": 42,
   "id": "3412cdc3",
   "metadata": {},
   "outputs": [],
   "source": [
    "\n",
    "pipeline = Pipeline([\n",
    "    ('selector', SelectFromModel(estimator=XGBClassifier(), max_features=50, threshold=-np.inf)),\n",
    "    ('regressor',XGBClassifier())\n",
    "])\n"
   ]
  },
  {
   "cell_type": "code",
   "execution_count": 43,
   "id": "df38a97d",
   "metadata": {},
   "outputs": [
    {
     "name": "stdout",
     "output_type": "stream",
     "text": [
      "50\n"
     ]
    }
   ],
   "source": [
    "pipeline.fit(X_train, y_train)\n",
    "\n",
    "selected_features = pipeline['selector'].get_support()\n",
    "print(selected_features.sum())"
   ]
  },
  {
   "cell_type": "code",
   "execution_count": 44,
   "id": "485f9c3e",
   "metadata": {},
   "outputs": [
    {
     "name": "stdout",
     "output_type": "stream",
     "text": [
      "['DeductibleAmtPaid_mean', 'OPAnnualReimbursementAmt_sum', 'OPAnnualDeductibleAmt_mean', 'OPAnnualDeductibleAmt_sum', 'ClaimCounts', 'RenalDiseaseIndicator', 'Age', 'uniqBeneCount', 'ClmsperBene', 'TotalInscClaimAmtReimbursed', 'MeanInscClaimAmtReimbursed', 'MaxInscClaimAmtReimbursed', 'ClmsperATPhysn', 'ClmsperOPPhysn', 'uniqOTPhysnCount', 'ClmsperOTPhysn', 'InClmsPct', 'StateCount_Uniq', 'MajorState', 'CountyCount_Uniq', 'TotalIPAnnualReimbursementAmt', 'MaxIPAnnualReimbursementAmt', 'TotalIPAnnualDeductibleAmtdf', 'MaxHospitalDays', 'MedianHospitalDays', 'MeanHospitalDays', 'Chronic_Alzheimer_Frac', 'Chronic_KidneyDisease_Frac', 'Chronic_Osteoporasis_Frac', 'MeanDiagCodeNumPerClaim', 'MeanProcCodeNumPerClaim', 'TotalProcCodeNum', 'MeanHighFreqDiagCodeNumPerClaim', 'MeanMediumFreqDiagCodeNumPerClaim', 'MeanLowFreqDiagCodeNumPerClaim', 'MeanRareFreqDiagCodeNumPerClaim', 'TotalMediumFreqProcCodeNumPerClaim', 'TotalRareFreqProcCodeNumPerClaim', 'totalDiagCode_4019', 'totalDiagCode_25000', 'totalDiagCode_2724', 'totalDiagCode_4011', 'totalDiagCode_42731', 'totalDiagCode_V5861', 'totalDiagCode_2449', 'totalDiagCode_53081', 'totalDiagCode_41401', 'totalDiagCode_2589', 'TotalTeDiagCode', 'TotalTeProcCode']\n"
     ]
    }
   ],
   "source": [
    "selected_features_names = X_train.columns[selected_features].tolist()\n",
    "print(selected_features_names)"
   ]
  },
  {
   "cell_type": "code",
   "execution_count": 45,
   "id": "03b3b730",
   "metadata": {},
   "outputs": [],
   "source": [
    "X_train_reduced50=X_train[['DeductibleAmtPaid_mean', 'OPAnnualReimbursementAmt_sum', 'OPAnnualDeductibleAmt_mean', 'OPAnnualDeductibleAmt_sum', 'ClaimCounts', 'RenalDiseaseIndicator', 'Age', 'uniqBeneCount', 'ClmsperBene', 'TotalInscClaimAmtReimbursed', 'MeanInscClaimAmtReimbursed', 'MaxInscClaimAmtReimbursed', 'ClmsperATPhysn', 'ClmsperOPPhysn', 'uniqOTPhysnCount', 'ClmsperOTPhysn', 'InClmsPct', 'StateCount_Uniq', 'MajorState', 'CountyCount_Uniq', 'TotalIPAnnualReimbursementAmt', 'MaxIPAnnualReimbursementAmt', 'TotalIPAnnualDeductibleAmtdf', 'MaxHospitalDays', 'MedianHospitalDays', 'MeanHospitalDays', 'Chronic_Alzheimer_Frac', 'Chronic_KidneyDisease_Frac', 'Chronic_Osteoporasis_Frac', 'MeanDiagCodeNumPerClaim', 'MeanProcCodeNumPerClaim', 'TotalProcCodeNum', 'MeanHighFreqDiagCodeNumPerClaim', 'MeanMediumFreqDiagCodeNumPerClaim', 'MeanLowFreqDiagCodeNumPerClaim', 'MeanRareFreqDiagCodeNumPerClaim', 'TotalMediumFreqProcCodeNumPerClaim', 'TotalRareFreqProcCodeNumPerClaim', 'totalDiagCode_4019', 'totalDiagCode_25000', 'totalDiagCode_2724', 'totalDiagCode_4011', 'totalDiagCode_42731', 'totalDiagCode_V5861', 'totalDiagCode_2449', 'totalDiagCode_53081', 'totalDiagCode_41401', 'totalDiagCode_2589', 'TotalTeDiagCode', 'TotalTeProcCode']]"
   ]
  },
  {
   "cell_type": "code",
   "execution_count": 46,
   "id": "37134b62",
   "metadata": {},
   "outputs": [
    {
     "data": {
      "text/html": [
       "<div>\n",
       "<style scoped>\n",
       "    .dataframe tbody tr th:only-of-type {\n",
       "        vertical-align: middle;\n",
       "    }\n",
       "\n",
       "    .dataframe tbody tr th {\n",
       "        vertical-align: top;\n",
       "    }\n",
       "\n",
       "    .dataframe thead th {\n",
       "        text-align: right;\n",
       "    }\n",
       "</style>\n",
       "<table border=\"1\" class=\"dataframe\">\n",
       "  <thead>\n",
       "    <tr style=\"text-align: right;\">\n",
       "      <th></th>\n",
       "      <th>DeductibleAmtPaid_mean</th>\n",
       "      <th>OPAnnualReimbursementAmt_sum</th>\n",
       "      <th>OPAnnualDeductibleAmt_mean</th>\n",
       "      <th>OPAnnualDeductibleAmt_sum</th>\n",
       "      <th>ClaimCounts</th>\n",
       "      <th>RenalDiseaseIndicator</th>\n",
       "      <th>Age</th>\n",
       "      <th>uniqBeneCount</th>\n",
       "      <th>ClmsperBene</th>\n",
       "      <th>TotalInscClaimAmtReimbursed</th>\n",
       "      <th>...</th>\n",
       "      <th>totalDiagCode_2724</th>\n",
       "      <th>totalDiagCode_4011</th>\n",
       "      <th>totalDiagCode_42731</th>\n",
       "      <th>totalDiagCode_V5861</th>\n",
       "      <th>totalDiagCode_2449</th>\n",
       "      <th>totalDiagCode_53081</th>\n",
       "      <th>totalDiagCode_41401</th>\n",
       "      <th>totalDiagCode_2589</th>\n",
       "      <th>TotalTeDiagCode</th>\n",
       "      <th>TotalTeProcCode</th>\n",
       "    </tr>\n",
       "    <tr>\n",
       "      <th>Provider</th>\n",
       "      <th></th>\n",
       "      <th></th>\n",
       "      <th></th>\n",
       "      <th></th>\n",
       "      <th></th>\n",
       "      <th></th>\n",
       "      <th></th>\n",
       "      <th></th>\n",
       "      <th></th>\n",
       "      <th></th>\n",
       "      <th></th>\n",
       "      <th></th>\n",
       "      <th></th>\n",
       "      <th></th>\n",
       "      <th></th>\n",
       "      <th></th>\n",
       "      <th></th>\n",
       "      <th></th>\n",
       "      <th></th>\n",
       "      <th></th>\n",
       "      <th></th>\n",
       "    </tr>\n",
       "  </thead>\n",
       "  <tbody>\n",
       "    <tr>\n",
       "      <th>PRV51003</th>\n",
       "      <td>502.166667</td>\n",
       "      <td>353520</td>\n",
       "      <td>737.121212</td>\n",
       "      <td>97300</td>\n",
       "      <td>132</td>\n",
       "      <td>0.220</td>\n",
       "      <td>71.0</td>\n",
       "      <td>117</td>\n",
       "      <td>1.128205</td>\n",
       "      <td>605670</td>\n",
       "      <td>...</td>\n",
       "      <td>16</td>\n",
       "      <td>3</td>\n",
       "      <td>11</td>\n",
       "      <td>6</td>\n",
       "      <td>12</td>\n",
       "      <td>6</td>\n",
       "      <td>15</td>\n",
       "      <td>6</td>\n",
       "      <td>1.180504</td>\n",
       "      <td>1.100834</td>\n",
       "    </tr>\n",
       "    <tr>\n",
       "      <th>PRV51007</th>\n",
       "      <td>45.333333</td>\n",
       "      <td>124540</td>\n",
       "      <td>469.722222</td>\n",
       "      <td>33820</td>\n",
       "      <td>72</td>\n",
       "      <td>0.153</td>\n",
       "      <td>69.5</td>\n",
       "      <td>58</td>\n",
       "      <td>1.241379</td>\n",
       "      <td>33710</td>\n",
       "      <td>...</td>\n",
       "      <td>5</td>\n",
       "      <td>3</td>\n",
       "      <td>2</td>\n",
       "      <td>7</td>\n",
       "      <td>6</td>\n",
       "      <td>2</td>\n",
       "      <td>2</td>\n",
       "      <td>2</td>\n",
       "      <td>1.014301</td>\n",
       "      <td>1.022005</td>\n",
       "    </tr>\n",
       "    <tr>\n",
       "      <th>PRV51025</th>\n",
       "      <td>164.183908</td>\n",
       "      <td>199140</td>\n",
       "      <td>621.379310</td>\n",
       "      <td>54060</td>\n",
       "      <td>87</td>\n",
       "      <td>0.218</td>\n",
       "      <td>74.0</td>\n",
       "      <td>76</td>\n",
       "      <td>1.144737</td>\n",
       "      <td>118350</td>\n",
       "      <td>...</td>\n",
       "      <td>8</td>\n",
       "      <td>5</td>\n",
       "      <td>7</td>\n",
       "      <td>1</td>\n",
       "      <td>2</td>\n",
       "      <td>5</td>\n",
       "      <td>5</td>\n",
       "      <td>3</td>\n",
       "      <td>1.035489</td>\n",
       "      <td>1.052657</td>\n",
       "    </tr>\n",
       "    <tr>\n",
       "      <th>PRV51026</th>\n",
       "      <td>4.473684</td>\n",
       "      <td>137680</td>\n",
       "      <td>680.394737</td>\n",
       "      <td>51710</td>\n",
       "      <td>76</td>\n",
       "      <td>0.158</td>\n",
       "      <td>70.5</td>\n",
       "      <td>56</td>\n",
       "      <td>1.357143</td>\n",
       "      <td>19840</td>\n",
       "      <td>...</td>\n",
       "      <td>6</td>\n",
       "      <td>5</td>\n",
       "      <td>3</td>\n",
       "      <td>2</td>\n",
       "      <td>3</td>\n",
       "      <td>0</td>\n",
       "      <td>0</td>\n",
       "      <td>1</td>\n",
       "      <td>0.999096</td>\n",
       "      <td>1.022881</td>\n",
       "    </tr>\n",
       "    <tr>\n",
       "      <th>PRV51041</th>\n",
       "      <td>7.941176</td>\n",
       "      <td>77780</td>\n",
       "      <td>613.823529</td>\n",
       "      <td>20870</td>\n",
       "      <td>34</td>\n",
       "      <td>0.088</td>\n",
       "      <td>71.5</td>\n",
       "      <td>31</td>\n",
       "      <td>1.096774</td>\n",
       "      <td>7410</td>\n",
       "      <td>...</td>\n",
       "      <td>1</td>\n",
       "      <td>1</td>\n",
       "      <td>1</td>\n",
       "      <td>0</td>\n",
       "      <td>2</td>\n",
       "      <td>1</td>\n",
       "      <td>3</td>\n",
       "      <td>0</td>\n",
       "      <td>0.990358</td>\n",
       "      <td>1.022881</td>\n",
       "    </tr>\n",
       "  </tbody>\n",
       "</table>\n",
       "<p>5 rows × 50 columns</p>\n",
       "</div>"
      ],
      "text/plain": [
       "          DeductibleAmtPaid_mean  OPAnnualReimbursementAmt_sum  \\\n",
       "Provider                                                         \n",
       "PRV51003              502.166667                        353520   \n",
       "PRV51007               45.333333                        124540   \n",
       "PRV51025              164.183908                        199140   \n",
       "PRV51026                4.473684                        137680   \n",
       "PRV51041                7.941176                         77780   \n",
       "\n",
       "          OPAnnualDeductibleAmt_mean  OPAnnualDeductibleAmt_sum  ClaimCounts  \\\n",
       "Provider                                                                       \n",
       "PRV51003                  737.121212                      97300          132   \n",
       "PRV51007                  469.722222                      33820           72   \n",
       "PRV51025                  621.379310                      54060           87   \n",
       "PRV51026                  680.394737                      51710           76   \n",
       "PRV51041                  613.823529                      20870           34   \n",
       "\n",
       "          RenalDiseaseIndicator   Age  uniqBeneCount  ClmsperBene  \\\n",
       "Provider                                                            \n",
       "PRV51003                  0.220  71.0            117     1.128205   \n",
       "PRV51007                  0.153  69.5             58     1.241379   \n",
       "PRV51025                  0.218  74.0             76     1.144737   \n",
       "PRV51026                  0.158  70.5             56     1.357143   \n",
       "PRV51041                  0.088  71.5             31     1.096774   \n",
       "\n",
       "          TotalInscClaimAmtReimbursed  ...  totalDiagCode_2724  \\\n",
       "Provider                               ...                       \n",
       "PRV51003                       605670  ...                  16   \n",
       "PRV51007                        33710  ...                   5   \n",
       "PRV51025                       118350  ...                   8   \n",
       "PRV51026                        19840  ...                   6   \n",
       "PRV51041                         7410  ...                   1   \n",
       "\n",
       "          totalDiagCode_4011  totalDiagCode_42731  totalDiagCode_V5861  \\\n",
       "Provider                                                                 \n",
       "PRV51003                   3                   11                    6   \n",
       "PRV51007                   3                    2                    7   \n",
       "PRV51025                   5                    7                    1   \n",
       "PRV51026                   5                    3                    2   \n",
       "PRV51041                   1                    1                    0   \n",
       "\n",
       "          totalDiagCode_2449  totalDiagCode_53081  totalDiagCode_41401  \\\n",
       "Provider                                                                 \n",
       "PRV51003                  12                    6                   15   \n",
       "PRV51007                   6                    2                    2   \n",
       "PRV51025                   2                    5                    5   \n",
       "PRV51026                   3                    0                    0   \n",
       "PRV51041                   2                    1                    3   \n",
       "\n",
       "          totalDiagCode_2589  TotalTeDiagCode  TotalTeProcCode  \n",
       "Provider                                                        \n",
       "PRV51003                   6         1.180504         1.100834  \n",
       "PRV51007                   2         1.014301         1.022005  \n",
       "PRV51025                   3         1.035489         1.052657  \n",
       "PRV51026                   1         0.999096         1.022881  \n",
       "PRV51041                   0         0.990358         1.022881  \n",
       "\n",
       "[5 rows x 50 columns]"
      ]
     },
     "execution_count": 46,
     "metadata": {},
     "output_type": "execute_result"
    }
   ],
   "source": [
    "X_test_reduced50 = X_test[['DeductibleAmtPaid_mean', 'OPAnnualReimbursementAmt_sum', 'OPAnnualDeductibleAmt_mean', 'OPAnnualDeductibleAmt_sum', 'ClaimCounts', 'RenalDiseaseIndicator', 'Age', 'uniqBeneCount', 'ClmsperBene', 'TotalInscClaimAmtReimbursed', 'MeanInscClaimAmtReimbursed', 'MaxInscClaimAmtReimbursed', 'ClmsperATPhysn', 'ClmsperOPPhysn', 'uniqOTPhysnCount', 'ClmsperOTPhysn', 'InClmsPct', 'StateCount_Uniq', 'MajorState', 'CountyCount_Uniq', 'TotalIPAnnualReimbursementAmt', 'MaxIPAnnualReimbursementAmt', 'TotalIPAnnualDeductibleAmtdf', 'MaxHospitalDays', 'MedianHospitalDays', 'MeanHospitalDays', 'Chronic_Alzheimer_Frac', 'Chronic_KidneyDisease_Frac', 'Chronic_Osteoporasis_Frac', 'MeanDiagCodeNumPerClaim', 'MeanProcCodeNumPerClaim', 'TotalProcCodeNum', 'MeanHighFreqDiagCodeNumPerClaim', 'MeanMediumFreqDiagCodeNumPerClaim', 'MeanLowFreqDiagCodeNumPerClaim', 'MeanRareFreqDiagCodeNumPerClaim', 'TotalMediumFreqProcCodeNumPerClaim', 'TotalRareFreqProcCodeNumPerClaim', 'totalDiagCode_4019', 'totalDiagCode_25000', 'totalDiagCode_2724', 'totalDiagCode_4011', 'totalDiagCode_42731', 'totalDiagCode_V5861', 'totalDiagCode_2449', 'totalDiagCode_53081', 'totalDiagCode_41401', 'totalDiagCode_2589', 'TotalTeDiagCode', 'TotalTeProcCode']]\n",
    "X_test_reduced50.head()"
   ]
  },
  {
   "cell_type": "code",
   "execution_count": 47,
   "id": "37a2fc49",
   "metadata": {},
   "outputs": [],
   "source": [
    "xgb_steps_reduced50 = [('rescale', StandardScaler()), \n",
    "            ('xgbc', XGBClassifier())]\n",
    "xgb_model_reduced50 = Pipeline(xgb_steps_reduced50)\n",
    "xgb_model_reduced50 = xgb_model_reduced50.fit(X_train_reduced50,y_train)   #criterion = 'gini'"
   ]
  },
  {
   "cell_type": "code",
   "execution_count": 48,
   "id": "344c04d0",
   "metadata": {},
   "outputs": [],
   "source": [
    "y_train_pred_reduced50 = xgb_model_reduced50.predict(X_train_reduced50)\n",
    "y_test_pred_reduced50 = xgb_model_reduced50.predict(X_test_reduced50)"
   ]
  },
  {
   "cell_type": "code",
   "execution_count": 49,
   "id": "0de2f040",
   "metadata": {},
   "outputs": [],
   "source": [
    "# Metrics_reduced features"
   ]
  },
  {
   "cell_type": "code",
   "execution_count": 50,
   "id": "396aa3f7",
   "metadata": {},
   "outputs": [
    {
     "name": "stdout",
     "output_type": "stream",
     "text": [
      "---------------------Train Classification Report--------------------------------\n",
      "\n",
      "              precision    recall  f1-score   support\n",
      "\n",
      "           0       1.00      1.00      1.00      3925\n",
      "           1       1.00      1.00      1.00       403\n",
      "\n",
      "    accuracy                           1.00      4328\n",
      "   macro avg       1.00      1.00      1.00      4328\n",
      "weighted avg       1.00      1.00      1.00      4328\n",
      "\n",
      "---------------------Test Classification Report--------------------------------\n",
      "\n",
      "              precision    recall  f1-score   support\n",
      "\n",
      "           0       0.91      1.00      0.95       979\n",
      "           1       1.00      0.01      0.02       103\n",
      "\n",
      "    accuracy                           0.91      1082\n",
      "   macro avg       0.95      0.50      0.48      1082\n",
      "weighted avg       0.91      0.91      0.86      1082\n",
      "\n"
     ]
    }
   ],
   "source": [
    "print('---------------------Train Classification Report--------------------------------\\n')\n",
    "print(classification_report(y_train, y_train_pred_reduced50))\n",
    "print('---------------------Test Classification Report--------------------------------\\n')\n",
    "print(classification_report(y_test, y_test_pred_reduced50))"
   ]
  },
  {
   "cell_type": "code",
   "execution_count": 51,
   "id": "cd7f2c5b",
   "metadata": {},
   "outputs": [],
   "source": [
    "y_train_proba_reduced50  = xgb_model_reduced50 .predict_proba(X_train_reduced50 )\n",
    "y_test_proba_reduced50  = xgb_model_reduced50 .predict_proba(X_test_reduced50 )"
   ]
  },
  {
   "cell_type": "code",
   "execution_count": 52,
   "id": "e7e26d50",
   "metadata": {},
   "outputs": [],
   "source": [
    "y_train_score_reduced50 = y_train_proba_reduced50 [:, 1]\n",
    "y_test_score_reduced50  = y_test_proba_reduced50 [:, 1]"
   ]
  },
  {
   "cell_type": "code",
   "execution_count": 53,
   "id": "3a8d5380",
   "metadata": {},
   "outputs": [
    {
     "name": "stdout",
     "output_type": "stream",
     "text": [
      "PR-AUC is 0.38\n"
     ]
    },
    {
     "data": {
      "text/plain": [
       "Text(0.5, 1.0, 'Precision-Recall Curve of Test-50 Features')"
      ]
     },
     "execution_count": 53,
     "metadata": {},
     "output_type": "execute_result"
    },
    {
     "data": {
      "image/png": "[encoded data removed]",
      "text/plain": [
       "<Figure size 432x288 with 1 Axes>"
      ]
     },
     "metadata": {
      "needs_background": "light"
     },
     "output_type": "display_data"
    }
   ],
   "source": [
    "# Data to plot precision - recall curve\n",
    "precision_reduced50, recall_reduced50, thresholds_reduced50 = precision_recall_curve(y_test, y_test_score_reduced50 )\n",
    "# Use AUC function to calculate the area under the curve of precision recall curve\n",
    "auc_precision_recall_reduced50  = auc(recall_reduced50 , precision_reduced50 )\n",
    "print('PR-AUC is {:.2f}'.format(auc_precision_recall_reduced50))\n",
    "\n",
    "# plot PR curve\n",
    "plt.plot(recall_reduced50, precision_reduced50)\n",
    "plt.xlabel('Recall(Positive label:1)')\n",
    "plt.ylabel('Precision(Positive label:1)')\n",
    "plt.title('Precision-Recall Curve of Test-50 Features')"
   ]
  },
  {
   "cell_type": "markdown",
   "id": "a1d59859",
   "metadata": {},
   "source": [
    "#### II. XGBclassifier with parameters: better, the train metrics are not 1 anymore"
   ]
  },
  {
   "cell_type": "markdown",
   "id": "cb7f275e",
   "metadata": {},
   "source": [
    "#### 2.1 With all features"
   ]
  },
  {
   "cell_type": "code",
   "execution_count": 54,
   "id": "1abf96aa",
   "metadata": {},
   "outputs": [
    {
     "data": {
      "text/plain": [
       "XGBClassifier(alpha=10, base_score=0.5, booster='gbtree', callbacks=None,\n",
       "              colsample_bylevel=1, colsample_bynode=1, colsample_bytree=1,\n",
       "              early_stopping_rounds=None, enable_categorical=False,\n",
       "              eval_metric=None, gamma=0, gpu_id=-1, grow_policy='depthwise',\n",
       "              importance_type=None, interaction_constraints='',\n",
       "              learning_rate=1.0, max_bin=256, max_cat_to_onehot=4,\n",
       "              max_delta_step=0, max_depth=4, max_leaves=0, min_child_weight=1,\n",
       "              missing=nan, monotone_constraints='()', n_estimators=100,\n",
       "              n_jobs=0, num_parallel_tree=1, predictor='auto', random_state=0,\n",
       "              reg_alpha=10, ...)"
      ]
     },
     "execution_count": 54,
     "metadata": {},
     "output_type": "execute_result"
    }
   ],
   "source": [
    "# import XGBClassifier\n",
    "from xgboost import XGBClassifier\n",
    "# declare parameters\n",
    "params = {\n",
    "            'objective':'binary:logistic',\n",
    "            'max_depth': 4,\n",
    "            'alpha': 10,\n",
    "            'learning_rate': 1.0,\n",
    "            'n_estimators':100\n",
    "        }         \n",
    "           \n",
    "          \n",
    "# instantiate the classifier \n",
    "xgb_clf = XGBClassifier(**params)\n",
    "\n",
    "# fit the classifier to the training data\n",
    "xgb_clf.fit(X_train, y_train)"
   ]
  },
  {
   "cell_type": "code",
   "execution_count": 55,
   "id": "262a5da0",
   "metadata": {},
   "outputs": [],
   "source": [
    "y_train_predpara= xgb_clf.predict(X_train)\n",
    "y_test_predpara= xgb_clf.predict(X_test)"
   ]
  },
  {
   "cell_type": "code",
   "execution_count": 56,
   "id": "2b606a5e",
   "metadata": {},
   "outputs": [
    {
     "name": "stdout",
     "output_type": "stream",
     "text": [
      "---------------------Train Classification Report--------------------------------\n",
      "\n",
      "              precision    recall  f1-score   support\n",
      "\n",
      "           0       0.99      1.00      0.99      3925\n",
      "           1       0.96      0.92      0.94       403\n",
      "\n",
      "    accuracy                           0.99      4328\n",
      "   macro avg       0.98      0.96      0.97      4328\n",
      "weighted avg       0.99      0.99      0.99      4328\n",
      "\n",
      "---------------------Test Classification Report--------------------------------\n",
      "\n",
      "              precision    recall  f1-score   support\n",
      "\n",
      "           0       0.91      1.00      0.95       979\n",
      "           1       1.00      0.05      0.09       103\n",
      "\n",
      "    accuracy                           0.91      1082\n",
      "   macro avg       0.95      0.52      0.52      1082\n",
      "weighted avg       0.92      0.91      0.87      1082\n",
      "\n"
     ]
    }
   ],
   "source": [
    "print('---------------------Train Classification Report--------------------------------\\n')\n",
    "print(classification_report(y_train, y_train_predpara))\n",
    "print('---------------------Test Classification Report--------------------------------\\n')\n",
    "print(classification_report(y_test, y_test_predpara))"
   ]
  },
  {
   "cell_type": "code",
   "execution_count": 57,
   "id": "5c3bfdbd",
   "metadata": {},
   "outputs": [],
   "source": [
    "y_train_probapara  = xgb_clf.predict_proba(X_train )\n",
    "y_test_probapara = xgb_clf.predict_proba(X_test )"
   ]
  },
  {
   "cell_type": "code",
   "execution_count": 58,
   "id": "416edab4",
   "metadata": {},
   "outputs": [],
   "source": [
    "y_train_scorepara = y_train_probapara [:, 1]\n",
    "y_test_scorepara  = y_test_probapara [:, 1]"
   ]
  },
  {
   "cell_type": "code",
   "execution_count": 59,
   "id": "2e868e4a",
   "metadata": {},
   "outputs": [
    {
     "name": "stdout",
     "output_type": "stream",
     "text": [
      "PR-AUC is 0.98\n"
     ]
    },
    {
     "data": {
      "text/plain": [
       "<function matplotlib.pyplot.show(close=None, block=None)>"
      ]
     },
     "execution_count": 59,
     "metadata": {},
     "output_type": "execute_result"
    },
    {
     "data": {
      "image/png": "[encoded data removed]",
      "text/plain": [
       "<Figure size 432x288 with 1 Axes>"
      ]
     },
     "metadata": {
      "needs_background": "light"
     },
     "output_type": "display_data"
    }
   ],
   "source": [
    "# Data to plot precision - recall curve\n",
    "precision_para_train, recall_para_train, thresholds_para_train = precision_recall_curve(y_train, y_train_scorepara )\n",
    "# Use AUC function to calculate the area under the curve of precision recall curve\n",
    "auc_precision_recall_trainpara  = auc(recall_para_train, precision_para_train )\n",
    "print('PR-AUC is {:.2f}'.format(auc_precision_recall_trainpara))\n",
    "\n",
    "# plot PR curve\n",
    "plt.plot(recall_para_train, precision_para_train)\n",
    "plt.text(0.5, 0.9, 'XGBpara PR-AUC={0:.2f}'.format(auc_precision_recall_trainpara))\n",
    "plt.xlabel('Recall(Positive label:1)')\n",
    "plt.ylabel('Precision(Positive label:1)')\n",
    "plt.title('Precision-Recall Curve of Train- With Parameters')\n",
    "plt.show"
   ]
  },
  {
   "cell_type": "code",
   "execution_count": 60,
   "id": "1753cf0c",
   "metadata": {},
   "outputs": [
    {
     "name": "stdout",
     "output_type": "stream",
     "text": [
      "PR-AUC is 0.59\n"
     ]
    },
    {
     "data": {
      "text/plain": [
       "<function matplotlib.pyplot.show(close=None, block=None)>"
      ]
     },
     "execution_count": 60,
     "metadata": {},
     "output_type": "execute_result"
    },
    {
     "data": {
      "image/png": "[encoded data removed]",
      "text/plain": [
       "<Figure size 432x288 with 1 Axes>"
      ]
     },
     "metadata": {
      "needs_background": "light"
     },
     "output_type": "display_data"
    }
   ],
   "source": [
    "# Data to plot precision - recall curve\n",
    "precision_para, recall_para, thresholds_para = precision_recall_curve(y_test, y_test_scorepara )\n",
    "# Use AUC function to calculate the area under the curve of precision recall curve\n",
    "auc_precision_recall_para  = auc(recall_para, precision_para )\n",
    "print('PR-AUC is {:.2f}'.format(auc_precision_recall_para))\n",
    "\n",
    "# plot PR curve\n",
    "plt.plot(recall_para, precision_para)\n",
    "plt.text(0.5, 0.9, 'XGBpara PR-AUC={0:.2f}'.format(auc_precision_recall_para))\n",
    "plt.xlabel('Recall(Positive label:1)')\n",
    "plt.ylabel('Precision(Positive label:1)')\n",
    "plt.title('Precision-Recall Curve of Test- With Parameters')\n",
    "plt.show"
   ]
  },
  {
   "cell_type": "markdown",
   "id": "c48daf27",
   "metadata": {},
   "source": [
    "#### 2.2 Top 50 features"
   ]
  },
  {
   "cell_type": "code",
   "execution_count": 61,
   "id": "442ddf5c",
   "metadata": {},
   "outputs": [],
   "source": [
    "xgb_steps_para50 = [('rescale', StandardScaler()), \n",
    "            ('xgbc', XGBClassifier(**params))]\n",
    "xgb_model_para50 = Pipeline(xgb_steps_para50)\n",
    "xgb_model_para50 = xgb_model_para50.fit(X_train_reduced50,y_train) "
   ]
  },
  {
   "cell_type": "code",
   "execution_count": 62,
   "id": "bfb68bbc",
   "metadata": {},
   "outputs": [],
   "source": [
    "y_train_pred_para50 = xgb_model_para50.predict(X_train_reduced50)\n",
    "y_test_pred_para50 = xgb_model_para50.predict(X_test_reduced50)"
   ]
  },
  {
   "cell_type": "code",
   "execution_count": 63,
   "id": "63a5db31",
   "metadata": {},
   "outputs": [
    {
     "name": "stdout",
     "output_type": "stream",
     "text": [
      "---------------------Train Classification Report--------------------------------\n",
      "\n",
      "              precision    recall  f1-score   support\n",
      "\n",
      "           0       0.99      1.00      0.99      3925\n",
      "           1       0.96      0.93      0.95       403\n",
      "\n",
      "    accuracy                           0.99      4328\n",
      "   macro avg       0.98      0.96      0.97      4328\n",
      "weighted avg       0.99      0.99      0.99      4328\n",
      "\n",
      "---------------------Test Classification Report--------------------------------\n",
      "\n",
      "              precision    recall  f1-score   support\n",
      "\n",
      "           0       0.91      1.00      0.95       979\n",
      "           1       1.00      0.08      0.14       103\n",
      "\n",
      "    accuracy                           0.91      1082\n",
      "   macro avg       0.96      0.54      0.55      1082\n",
      "weighted avg       0.92      0.91      0.88      1082\n",
      "\n"
     ]
    }
   ],
   "source": [
    "print('---------------------Train Classification Report--------------------------------\\n')\n",
    "print(classification_report(y_train, y_train_pred_para50))\n",
    "print('---------------------Test Classification Report--------------------------------\\n')\n",
    "print(classification_report(y_test, y_test_pred_para50))"
   ]
  },
  {
   "cell_type": "code",
   "execution_count": 64,
   "id": "bbcf6a6d",
   "metadata": {},
   "outputs": [],
   "source": [
    "y_train_proba_para50  = xgb_model_para50 .predict_proba(X_train_reduced50 )\n",
    "y_test_proba_para50  = xgb_model_para50 .predict_proba(X_test_reduced50 )"
   ]
  },
  {
   "cell_type": "code",
   "execution_count": 65,
   "id": "6d3a3b70",
   "metadata": {},
   "outputs": [],
   "source": [
    "y_train_score_para50 = y_train_proba_para50 [:, 1]\n",
    "y_test_score_para50  = y_test_proba_para50 [:, 1]"
   ]
  },
  {
   "cell_type": "code",
   "execution_count": 66,
   "id": "ffc157a0",
   "metadata": {},
   "outputs": [
    {
     "name": "stdout",
     "output_type": "stream",
     "text": [
      "PR-AUC is 0.98\n"
     ]
    },
    {
     "data": {
      "text/plain": [
       "<function matplotlib.pyplot.show(close=None, block=None)>"
      ]
     },
     "execution_count": 66,
     "metadata": {},
     "output_type": "execute_result"
    },
    {
     "data": {
      "image/png": "[encoded data removed]",
      "text/plain": [
       "<Figure size 432x288 with 1 Axes>"
      ]
     },
     "metadata": {
      "needs_background": "light"
     },
     "output_type": "display_data"
    }
   ],
   "source": [
    "# Data to plot precision - recall curve\n",
    "precision_para50_train, recall_para50_train, thresholds_para50_train = precision_recall_curve(y_train, y_train_score_para50 )\n",
    "# Use AUC function to calculate the area under the curve of precision recall curve\n",
    "auc_precision_recall_trainpara50  = auc(recall_para50_train, precision_para50_train )\n",
    "print('PR-AUC is {:.2f}'.format(auc_precision_recall_trainpara50))\n",
    "\n",
    "# plot PR curve\n",
    "plt.plot(recall_para50_train, precision_para50_train)\n",
    "plt.text(0.5, 0.9, 'XGBpara PR-AUC={0:.2f}'.format(auc_precision_recall_trainpara50))\n",
    "plt.xlabel('Recall(Positive label:1)')\n",
    "plt.ylabel('Precision(Positive label:1)')\n",
    "plt.title('Precision-Recall Curve of Train- 50 features with Parameters')\n",
    "plt.show"
   ]
  },
  {
   "cell_type": "code",
   "execution_count": 67,
   "id": "74297d60",
   "metadata": {},
   "outputs": [
    {
     "name": "stdout",
     "output_type": "stream",
     "text": [
      "PR-AUC is 0.55\n"
     ]
    },
    {
     "data": {
      "text/plain": [
       "<function matplotlib.pyplot.show(close=None, block=None)>"
      ]
     },
     "execution_count": 67,
     "metadata": {},
     "output_type": "execute_result"
    },
    {
     "data": {
      "image/png": "[encoded data removed]",
      "text/plain": [
       "<Figure size 432x288 with 1 Axes>"
      ]
     },
     "metadata": {
      "needs_background": "light"
     },
     "output_type": "display_data"
    }
   ],
   "source": [
    "# Data to plot precision - recall curve\n",
    "precision_para50_test, recall_para50_test, thresholds_para50_test = precision_recall_curve(y_test, y_test_score_para50 )\n",
    "# Use AUC function to calculate the area under the curve of precision recall curve\n",
    "auc_precision_recall_testpara50  = auc(recall_para50_test, precision_para50_test )\n",
    "print('PR-AUC is {:.2f}'.format(auc_precision_recall_testpara50))\n",
    "\n",
    "# plot PR curve\n",
    "plt.plot(recall_para50_test, precision_para50_test)\n",
    "plt.text(0.5, 0.9, 'XGBpara PR-AUC={0:.2f}'.format(auc_precision_recall_testpara50))\n",
    "plt.xlabel('Recall(Positive label:1)')\n",
    "plt.ylabel('Precision(Positive label:1)')\n",
    "plt.title('Precision-Recall Curve of Test- 50 features with Parameters')\n",
    "plt.show"
   ]
  },
  {
   "cell_type": "code",
   "execution_count": 75,
   "id": "ceaa8ee4",
   "metadata": {},
   "outputs": [
    {
     "data": {
      "image/png": "[encoded data removed]",
      "text/plain": [
       "<Figure size 648x504 with 1 Axes>"
      ]
     },
     "metadata": {},
     "output_type": "display_data"
    }
   ],
   "source": [
    "# Intitialize figure with two plots\n",
    "fig, ax = plt.subplots()\n",
    "# fig.suptitle('Model Comparison', fontsize=16, fontweight='bold')\n",
    "fig.set_figheight(7)\n",
    "fig.set_figwidth(9)\n",
    "fig.set_facecolor('white')\n",
    "\n",
    "ax.plot(recall, precision, label='Baseline with all features')\n",
    "ax.plot(recall_reduced50, precision_reduced50, label='Baseline with 50 Features')\n",
    "ax.plot(recall_para, precision_para, label='Parameters with all features')\n",
    "ax.plot(recall_para50_test, precision_para50_test, label='Parameters with 50 features')\n",
    "\n",
    "\n",
    "## Configure x and y axis\n",
    "ax.set_xlabel('Recall', fontweight='bold')\n",
    "ax.set_ylabel('Precision', fontweight='bold')\n",
    "ax.set_ylim(0, 1)\n",
    "## Create legend & title\n",
    "ax.set_title('Test XGBoost PR-AUC Curve Comparison', fontsize=14, fontweight='bold')\n",
    "ax.legend(loc=1)\n",
    "\n",
    "plt.show()\n",
    "\n",
    "\n",
    "\n",
    "# Baseline "
   ]
  },
  {
   "cell_type": "code",
   "execution_count": null,
   "id": "6dad7d04",
   "metadata": {},
   "outputs": [],
   "source": []
  },
  {
   "cell_type": "markdown",
   "id": "4ec0d213",
   "metadata": {},
   "source": [
    "#### III. Cross Validation"
   ]
  },
  {
   "cell_type": "markdown",
   "id": "5b50e72c",
   "metadata": {},
   "source": [
    "#### 3.1 With all features"
   ]
  },
  {
   "cell_type": "code",
   "execution_count": 69,
   "id": "4cb6085a",
   "metadata": {},
   "outputs": [],
   "source": [
    "# import XGBoost\n",
    "import xgboost as xgb\n",
    "X= X_train.append(X_test)\n",
    "y=y_train.append(y_test)\n",
    "# define data_dmatrix\n",
    "data_dmatrix = xgb.DMatrix(data=X,label=y)"
   ]
  },
  {
   "cell_type": "code",
   "execution_count": 70,
   "id": "b63410b6",
   "metadata": {},
   "outputs": [
    {
     "data": {
      "text/html": [
       "<div>\n",
       "<style scoped>\n",
       "    .dataframe tbody tr th:only-of-type {\n",
       "        vertical-align: middle;\n",
       "    }\n",
       "\n",
       "    .dataframe tbody tr th {\n",
       "        vertical-align: top;\n",
       "    }\n",
       "\n",
       "    .dataframe thead th {\n",
       "        text-align: right;\n",
       "    }\n",
       "</style>\n",
       "<table border=\"1\" class=\"dataframe\">\n",
       "  <thead>\n",
       "    <tr style=\"text-align: right;\">\n",
       "      <th></th>\n",
       "      <th>train-aucpr-mean</th>\n",
       "      <th>train-aucpr-std</th>\n",
       "      <th>test-aucpr-mean</th>\n",
       "      <th>test-aucpr-std</th>\n",
       "    </tr>\n",
       "  </thead>\n",
       "  <tbody>\n",
       "    <tr>\n",
       "      <th>0</th>\n",
       "      <td>0.665032</td>\n",
       "      <td>0.012231</td>\n",
       "      <td>0.598840</td>\n",
       "      <td>0.019372</td>\n",
       "    </tr>\n",
       "    <tr>\n",
       "      <th>1</th>\n",
       "      <td>0.729347</td>\n",
       "      <td>0.025064</td>\n",
       "      <td>0.668597</td>\n",
       "      <td>0.037957</td>\n",
       "    </tr>\n",
       "    <tr>\n",
       "      <th>2</th>\n",
       "      <td>0.732718</td>\n",
       "      <td>0.027079</td>\n",
       "      <td>0.660591</td>\n",
       "      <td>0.035561</td>\n",
       "    </tr>\n",
       "    <tr>\n",
       "      <th>3</th>\n",
       "      <td>0.759772</td>\n",
       "      <td>0.008656</td>\n",
       "      <td>0.687154</td>\n",
       "      <td>0.030005</td>\n",
       "    </tr>\n",
       "    <tr>\n",
       "      <th>4</th>\n",
       "      <td>0.787544</td>\n",
       "      <td>0.002951</td>\n",
       "      <td>0.715077</td>\n",
       "      <td>0.030773</td>\n",
       "    </tr>\n",
       "    <tr>\n",
       "      <th>5</th>\n",
       "      <td>0.794253</td>\n",
       "      <td>0.009159</td>\n",
       "      <td>0.720033</td>\n",
       "      <td>0.034190</td>\n",
       "    </tr>\n",
       "    <tr>\n",
       "      <th>6</th>\n",
       "      <td>0.803509</td>\n",
       "      <td>0.009361</td>\n",
       "      <td>0.732844</td>\n",
       "      <td>0.029529</td>\n",
       "    </tr>\n",
       "    <tr>\n",
       "      <th>7</th>\n",
       "      <td>0.819015</td>\n",
       "      <td>0.012384</td>\n",
       "      <td>0.746042</td>\n",
       "      <td>0.037261</td>\n",
       "    </tr>\n",
       "    <tr>\n",
       "      <th>8</th>\n",
       "      <td>0.821485</td>\n",
       "      <td>0.013661</td>\n",
       "      <td>0.749765</td>\n",
       "      <td>0.039896</td>\n",
       "    </tr>\n",
       "    <tr>\n",
       "      <th>9</th>\n",
       "      <td>0.825892</td>\n",
       "      <td>0.012086</td>\n",
       "      <td>0.751474</td>\n",
       "      <td>0.032989</td>\n",
       "    </tr>\n",
       "    <tr>\n",
       "      <th>10</th>\n",
       "      <td>0.834941</td>\n",
       "      <td>0.006271</td>\n",
       "      <td>0.760412</td>\n",
       "      <td>0.029083</td>\n",
       "    </tr>\n",
       "    <tr>\n",
       "      <th>11</th>\n",
       "      <td>0.833845</td>\n",
       "      <td>0.006486</td>\n",
       "      <td>0.758613</td>\n",
       "      <td>0.029101</td>\n",
       "    </tr>\n",
       "    <tr>\n",
       "      <th>12</th>\n",
       "      <td>0.837715</td>\n",
       "      <td>0.009531</td>\n",
       "      <td>0.761673</td>\n",
       "      <td>0.025448</td>\n",
       "    </tr>\n",
       "    <tr>\n",
       "      <th>13</th>\n",
       "      <td>0.845863</td>\n",
       "      <td>0.010193</td>\n",
       "      <td>0.768678</td>\n",
       "      <td>0.025443</td>\n",
       "    </tr>\n",
       "    <tr>\n",
       "      <th>14</th>\n",
       "      <td>0.851303</td>\n",
       "      <td>0.012958</td>\n",
       "      <td>0.775540</td>\n",
       "      <td>0.024099</td>\n",
       "    </tr>\n",
       "    <tr>\n",
       "      <th>15</th>\n",
       "      <td>0.854227</td>\n",
       "      <td>0.008286</td>\n",
       "      <td>0.777433</td>\n",
       "      <td>0.026569</td>\n",
       "    </tr>\n",
       "    <tr>\n",
       "      <th>16</th>\n",
       "      <td>0.854072</td>\n",
       "      <td>0.008415</td>\n",
       "      <td>0.777112</td>\n",
       "      <td>0.027048</td>\n",
       "    </tr>\n",
       "    <tr>\n",
       "      <th>17</th>\n",
       "      <td>0.856813</td>\n",
       "      <td>0.009875</td>\n",
       "      <td>0.780107</td>\n",
       "      <td>0.029717</td>\n",
       "    </tr>\n",
       "    <tr>\n",
       "      <th>18</th>\n",
       "      <td>0.859849</td>\n",
       "      <td>0.012936</td>\n",
       "      <td>0.782670</td>\n",
       "      <td>0.032569</td>\n",
       "    </tr>\n",
       "    <tr>\n",
       "      <th>19</th>\n",
       "      <td>0.862950</td>\n",
       "      <td>0.009208</td>\n",
       "      <td>0.784626</td>\n",
       "      <td>0.034082</td>\n",
       "    </tr>\n",
       "    <tr>\n",
       "      <th>20</th>\n",
       "      <td>0.865480</td>\n",
       "      <td>0.006312</td>\n",
       "      <td>0.785006</td>\n",
       "      <td>0.035982</td>\n",
       "    </tr>\n",
       "    <tr>\n",
       "      <th>21</th>\n",
       "      <td>0.867506</td>\n",
       "      <td>0.005685</td>\n",
       "      <td>0.785597</td>\n",
       "      <td>0.037169</td>\n",
       "    </tr>\n",
       "    <tr>\n",
       "      <th>22</th>\n",
       "      <td>0.869848</td>\n",
       "      <td>0.007334</td>\n",
       "      <td>0.788203</td>\n",
       "      <td>0.037570</td>\n",
       "    </tr>\n",
       "    <tr>\n",
       "      <th>23</th>\n",
       "      <td>0.871882</td>\n",
       "      <td>0.006221</td>\n",
       "      <td>0.789241</td>\n",
       "      <td>0.038215</td>\n",
       "    </tr>\n",
       "    <tr>\n",
       "      <th>24</th>\n",
       "      <td>0.875540</td>\n",
       "      <td>0.007885</td>\n",
       "      <td>0.792500</td>\n",
       "      <td>0.040485</td>\n",
       "    </tr>\n",
       "    <tr>\n",
       "      <th>25</th>\n",
       "      <td>0.879533</td>\n",
       "      <td>0.005159</td>\n",
       "      <td>0.797774</td>\n",
       "      <td>0.036118</td>\n",
       "    </tr>\n",
       "    <tr>\n",
       "      <th>26</th>\n",
       "      <td>0.880090</td>\n",
       "      <td>0.005737</td>\n",
       "      <td>0.796552</td>\n",
       "      <td>0.036276</td>\n",
       "    </tr>\n",
       "    <tr>\n",
       "      <th>27</th>\n",
       "      <td>0.881170</td>\n",
       "      <td>0.005868</td>\n",
       "      <td>0.797136</td>\n",
       "      <td>0.034809</td>\n",
       "    </tr>\n",
       "    <tr>\n",
       "      <th>28</th>\n",
       "      <td>0.882078</td>\n",
       "      <td>0.005500</td>\n",
       "      <td>0.797031</td>\n",
       "      <td>0.035559</td>\n",
       "    </tr>\n",
       "    <tr>\n",
       "      <th>29</th>\n",
       "      <td>0.883191</td>\n",
       "      <td>0.005917</td>\n",
       "      <td>0.797068</td>\n",
       "      <td>0.035605</td>\n",
       "    </tr>\n",
       "    <tr>\n",
       "      <th>30</th>\n",
       "      <td>0.889145</td>\n",
       "      <td>0.010041</td>\n",
       "      <td>0.804312</td>\n",
       "      <td>0.040942</td>\n",
       "    </tr>\n",
       "    <tr>\n",
       "      <th>31</th>\n",
       "      <td>0.889991</td>\n",
       "      <td>0.009946</td>\n",
       "      <td>0.804907</td>\n",
       "      <td>0.041369</td>\n",
       "    </tr>\n",
       "    <tr>\n",
       "      <th>32</th>\n",
       "      <td>0.890317</td>\n",
       "      <td>0.009852</td>\n",
       "      <td>0.804023</td>\n",
       "      <td>0.041563</td>\n",
       "    </tr>\n",
       "    <tr>\n",
       "      <th>33</th>\n",
       "      <td>0.890919</td>\n",
       "      <td>0.009789</td>\n",
       "      <td>0.803401</td>\n",
       "      <td>0.041705</td>\n",
       "    </tr>\n",
       "    <tr>\n",
       "      <th>34</th>\n",
       "      <td>0.891980</td>\n",
       "      <td>0.010156</td>\n",
       "      <td>0.803939</td>\n",
       "      <td>0.043121</td>\n",
       "    </tr>\n",
       "    <tr>\n",
       "      <th>35</th>\n",
       "      <td>0.893110</td>\n",
       "      <td>0.009961</td>\n",
       "      <td>0.804105</td>\n",
       "      <td>0.042756</td>\n",
       "    </tr>\n",
       "    <tr>\n",
       "      <th>36</th>\n",
       "      <td>0.894676</td>\n",
       "      <td>0.010382</td>\n",
       "      <td>0.805194</td>\n",
       "      <td>0.044611</td>\n",
       "    </tr>\n",
       "    <tr>\n",
       "      <th>37</th>\n",
       "      <td>0.896322</td>\n",
       "      <td>0.010611</td>\n",
       "      <td>0.806731</td>\n",
       "      <td>0.044658</td>\n",
       "    </tr>\n",
       "    <tr>\n",
       "      <th>38</th>\n",
       "      <td>0.897035</td>\n",
       "      <td>0.010657</td>\n",
       "      <td>0.805822</td>\n",
       "      <td>0.044152</td>\n",
       "    </tr>\n",
       "    <tr>\n",
       "      <th>39</th>\n",
       "      <td>0.898579</td>\n",
       "      <td>0.011146</td>\n",
       "      <td>0.806214</td>\n",
       "      <td>0.045433</td>\n",
       "    </tr>\n",
       "    <tr>\n",
       "      <th>40</th>\n",
       "      <td>0.899163</td>\n",
       "      <td>0.011168</td>\n",
       "      <td>0.806522</td>\n",
       "      <td>0.045436</td>\n",
       "    </tr>\n",
       "    <tr>\n",
       "      <th>41</th>\n",
       "      <td>0.901815</td>\n",
       "      <td>0.007897</td>\n",
       "      <td>0.810202</td>\n",
       "      <td>0.039869</td>\n",
       "    </tr>\n",
       "    <tr>\n",
       "      <th>42</th>\n",
       "      <td>0.902410</td>\n",
       "      <td>0.007967</td>\n",
       "      <td>0.810193</td>\n",
       "      <td>0.040897</td>\n",
       "    </tr>\n",
       "    <tr>\n",
       "      <th>43</th>\n",
       "      <td>0.904313</td>\n",
       "      <td>0.006102</td>\n",
       "      <td>0.813307</td>\n",
       "      <td>0.037706</td>\n",
       "    </tr>\n",
       "    <tr>\n",
       "      <th>44</th>\n",
       "      <td>0.906185</td>\n",
       "      <td>0.004445</td>\n",
       "      <td>0.815189</td>\n",
       "      <td>0.034767</td>\n",
       "    </tr>\n",
       "    <tr>\n",
       "      <th>45</th>\n",
       "      <td>0.907545</td>\n",
       "      <td>0.004373</td>\n",
       "      <td>0.816178</td>\n",
       "      <td>0.035899</td>\n",
       "    </tr>\n",
       "    <tr>\n",
       "      <th>46</th>\n",
       "      <td>0.907832</td>\n",
       "      <td>0.004239</td>\n",
       "      <td>0.816010</td>\n",
       "      <td>0.036284</td>\n",
       "    </tr>\n",
       "    <tr>\n",
       "      <th>47</th>\n",
       "      <td>0.908734</td>\n",
       "      <td>0.004695</td>\n",
       "      <td>0.815797</td>\n",
       "      <td>0.036687</td>\n",
       "    </tr>\n",
       "    <tr>\n",
       "      <th>48</th>\n",
       "      <td>0.909387</td>\n",
       "      <td>0.004096</td>\n",
       "      <td>0.816502</td>\n",
       "      <td>0.036708</td>\n",
       "    </tr>\n",
       "    <tr>\n",
       "      <th>49</th>\n",
       "      <td>0.911846</td>\n",
       "      <td>0.004289</td>\n",
       "      <td>0.817949</td>\n",
       "      <td>0.037895</td>\n",
       "    </tr>\n",
       "  </tbody>\n",
       "</table>\n",
       "</div>"
      ],
      "text/plain": [
       "    train-aucpr-mean  train-aucpr-std  test-aucpr-mean  test-aucpr-std\n",
       "0           0.665032         0.012231         0.598840        0.019372\n",
       "1           0.729347         0.025064         0.668597        0.037957\n",
       "2           0.732718         0.027079         0.660591        0.035561\n",
       "3           0.759772         0.008656         0.687154        0.030005\n",
       "4           0.787544         0.002951         0.715077        0.030773\n",
       "5           0.794253         0.009159         0.720033        0.034190\n",
       "6           0.803509         0.009361         0.732844        0.029529\n",
       "7           0.819015         0.012384         0.746042        0.037261\n",
       "8           0.821485         0.013661         0.749765        0.039896\n",
       "9           0.825892         0.012086         0.751474        0.032989\n",
       "10          0.834941         0.006271         0.760412        0.029083\n",
       "11          0.833845         0.006486         0.758613        0.029101\n",
       "12          0.837715         0.009531         0.761673        0.025448\n",
       "13          0.845863         0.010193         0.768678        0.025443\n",
       "14          0.851303         0.012958         0.775540        0.024099\n",
       "15          0.854227         0.008286         0.777433        0.026569\n",
       "16          0.854072         0.008415         0.777112        0.027048\n",
       "17          0.856813         0.009875         0.780107        0.029717\n",
       "18          0.859849         0.012936         0.782670        0.032569\n",
       "19          0.862950         0.009208         0.784626        0.034082\n",
       "20          0.865480         0.006312         0.785006        0.035982\n",
       "21          0.867506         0.005685         0.785597        0.037169\n",
       "22          0.869848         0.007334         0.788203        0.037570\n",
       "23          0.871882         0.006221         0.789241        0.038215\n",
       "24          0.875540         0.007885         0.792500        0.040485\n",
       "25          0.879533         0.005159         0.797774        0.036118\n",
       "26          0.880090         0.005737         0.796552        0.036276\n",
       "27          0.881170         0.005868         0.797136        0.034809\n",
       "28          0.882078         0.005500         0.797031        0.035559\n",
       "29          0.883191         0.005917         0.797068        0.035605\n",
       "30          0.889145         0.010041         0.804312        0.040942\n",
       "31          0.889991         0.009946         0.804907        0.041369\n",
       "32          0.890317         0.009852         0.804023        0.041563\n",
       "33          0.890919         0.009789         0.803401        0.041705\n",
       "34          0.891980         0.010156         0.803939        0.043121\n",
       "35          0.893110         0.009961         0.804105        0.042756\n",
       "36          0.894676         0.010382         0.805194        0.044611\n",
       "37          0.896322         0.010611         0.806731        0.044658\n",
       "38          0.897035         0.010657         0.805822        0.044152\n",
       "39          0.898579         0.011146         0.806214        0.045433\n",
       "40          0.899163         0.011168         0.806522        0.045436\n",
       "41          0.901815         0.007897         0.810202        0.039869\n",
       "42          0.902410         0.007967         0.810193        0.040897\n",
       "43          0.904313         0.006102         0.813307        0.037706\n",
       "44          0.906185         0.004445         0.815189        0.034767\n",
       "45          0.907545         0.004373         0.816178        0.035899\n",
       "46          0.907832         0.004239         0.816010        0.036284\n",
       "47          0.908734         0.004695         0.815797        0.036687\n",
       "48          0.909387         0.004096         0.816502        0.036708\n",
       "49          0.911846         0.004289         0.817949        0.037895"
      ]
     },
     "execution_count": 70,
     "metadata": {},
     "output_type": "execute_result"
    }
   ],
   "source": [
    "from xgboost import cv\n",
    "\n",
    "params = {\"objective\":\"binary:logistic\",'colsample_bytree': 0.3,'learning_rate': 0.1,\n",
    "                'max_depth': 5, 'alpha': 10}\n",
    "\n",
    "xgb_cv = cv(dtrain=data_dmatrix, params=params, nfold=3,\n",
    "                    num_boost_round=50, early_stopping_rounds=10, metrics=\"aucpr\", as_pandas=True, seed=123)\n",
    "xgb_cv"
   ]
  },
  {
   "cell_type": "code",
   "execution_count": 71,
   "id": "a51c0bdc",
   "metadata": {},
   "outputs": [],
   "source": [
    "def draw_cv_pr_curve(classifier, xgb_cv, X, y, title='PR Curve'):\n",
    "    \"\"\"\n",
    "    Draw a Cross Validated PR Curve.\n",
    "    Keyword Args:\n",
    "        classifier: Classifier Object\n",
    "        cv: StratifiedKFold Object: (https://stats.stackexchange.com/questions/49540/understanding-stratified-cross-validation)\n",
    "        X: Feature Pandas DataFrame\n",
    "        y: Response Pandas Series\n",
    "        \n",
    "    Largely taken from: https://stackoverflow.com/questions/29656550/how-to-plot-pr-curve-over-10-folds-of-cross-validation-in-scikit-learn\n",
    "    \"\"\"\n",
    "    y_real = []\n",
    "    y_proba = []\n",
    "\n",
    "    i = 0\n",
    "    for train, test in cv.split(X, y):\n",
    "        probas_ = classifier.fit(X.iloc[train], y.iloc[train]).predict_proba(X.iloc[test])\n",
    "        # Compute ROC curve and area the curve\n",
    "        precision, recall, _ = precision_recall_curve(y.iloc[test], probas_[:, 1])\n",
    "        \n",
    "        # Plotting each individual PR Curve\n",
    "        plt.plot(recall, precision, lw=1, alpha=0.3,\n",
    "                 label='PR fold %d (AUC = %0.2f)' % (i, average_precision_score(y.iloc[test], probas_[:, 1])))\n",
    "        \n",
    "        y_real.append(y.iloc[test])\n",
    "        y_proba.append(probas_[:, 1])\n",
    "\n",
    "        i += 1\n",
    "    \n",
    "    y_real = np.concatenate(y_real)\n",
    "    y_proba = np.concatenate(y_proba)\n",
    "    \n",
    "    precision, recall, _ = precision_recall_curve(y_real, y_proba)\n",
    "\n",
    "    plt.plot(recall, precision, color='b',\n",
    "             label=r'Precision-Recall (AUC = %0.2f)' % (average_precision_score(y_real, y_proba)),\n",
    "             lw=2, alpha=.8)\n",
    "\n",
    "    plt.xlim([-0.05, 1.05])\n",
    "    plt.ylim([-0.05, 1.05])\n",
    "    plt.xlabel('Recall')\n",
    "    plt.ylabel('Precision')\n",
    "    plt.title(title)\n",
    "    plt.legend(loc=\"lower right\")\n",
    "    plt.show()"
   ]
  },
  {
   "cell_type": "code",
   "execution_count": 72,
   "id": "d08eb412",
   "metadata": {},
   "outputs": [
    {
     "ename": "AttributeError",
     "evalue": "'function' object has no attribute 'split'",
     "output_type": "error",
     "traceback": [
      "\u001b[0;31m---------------------------------------------------------------------------\u001b[0m",
      "\u001b[0;31mAttributeError\u001b[0m                            Traceback (most recent call last)",
      "\u001b[0;32m/var/folders/px/3zlj3fr520zglv0pxrn7b46m0000gn/T/ipykernel_68209/2082165633.py\u001b[0m in \u001b[0;36m<module>\u001b[0;34m\u001b[0m\n\u001b[0;32m----> 1\u001b[0;31m \u001b[0mdraw_cv_pr_curve\u001b[0m\u001b[0;34m(\u001b[0m\u001b[0mxgb_clf\u001b[0m\u001b[0;34m,\u001b[0m \u001b[0mxgb_cv\u001b[0m\u001b[0;34m,\u001b[0m \u001b[0mX\u001b[0m\u001b[0;34m,\u001b[0m \u001b[0my\u001b[0m\u001b[0;34m,\u001b[0m \u001b[0mtitle\u001b[0m\u001b[0;34m=\u001b[0m\u001b[0;34m'Cross Validated PR Curve'\u001b[0m\u001b[0;34m)\u001b[0m\u001b[0;34m\u001b[0m\u001b[0;34m\u001b[0m\u001b[0m\n\u001b[0m",
      "\u001b[0;32m/var/folders/px/3zlj3fr520zglv0pxrn7b46m0000gn/T/ipykernel_68209/938280515.py\u001b[0m in \u001b[0;36mdraw_cv_pr_curve\u001b[0;34m(classifier, xgb_cv, X, y, title)\u001b[0m\n\u001b[1;32m     14\u001b[0m \u001b[0;34m\u001b[0m\u001b[0m\n\u001b[1;32m     15\u001b[0m     \u001b[0mi\u001b[0m \u001b[0;34m=\u001b[0m \u001b[0;36m0\u001b[0m\u001b[0;34m\u001b[0m\u001b[0;34m\u001b[0m\u001b[0m\n\u001b[0;32m---> 16\u001b[0;31m     \u001b[0;32mfor\u001b[0m \u001b[0mtrain\u001b[0m\u001b[0;34m,\u001b[0m \u001b[0mtest\u001b[0m \u001b[0;32min\u001b[0m \u001b[0mcv\u001b[0m\u001b[0;34m.\u001b[0m\u001b[0msplit\u001b[0m\u001b[0;34m(\u001b[0m\u001b[0mX\u001b[0m\u001b[0;34m,\u001b[0m \u001b[0my\u001b[0m\u001b[0;34m)\u001b[0m\u001b[0;34m:\u001b[0m\u001b[0;34m\u001b[0m\u001b[0;34m\u001b[0m\u001b[0m\n\u001b[0m\u001b[1;32m     17\u001b[0m         \u001b[0mprobas_\u001b[0m \u001b[0;34m=\u001b[0m \u001b[0mclassifier\u001b[0m\u001b[0;34m.\u001b[0m\u001b[0mfit\u001b[0m\u001b[0;34m(\u001b[0m\u001b[0mX\u001b[0m\u001b[0;34m.\u001b[0m\u001b[0miloc\u001b[0m\u001b[0;34m[\u001b[0m\u001b[0mtrain\u001b[0m\u001b[0;34m]\u001b[0m\u001b[0;34m,\u001b[0m \u001b[0my\u001b[0m\u001b[0;34m.\u001b[0m\u001b[0miloc\u001b[0m\u001b[0;34m[\u001b[0m\u001b[0mtrain\u001b[0m\u001b[0;34m]\u001b[0m\u001b[0;34m)\u001b[0m\u001b[0;34m.\u001b[0m\u001b[0mpredict_proba\u001b[0m\u001b[0;34m(\u001b[0m\u001b[0mX\u001b[0m\u001b[0;34m.\u001b[0m\u001b[0miloc\u001b[0m\u001b[0;34m[\u001b[0m\u001b[0mtest\u001b[0m\u001b[0;34m]\u001b[0m\u001b[0;34m)\u001b[0m\u001b[0;34m\u001b[0m\u001b[0;34m\u001b[0m\u001b[0m\n\u001b[1;32m     18\u001b[0m         \u001b[0;31m# Compute ROC curve and area the curve\u001b[0m\u001b[0;34m\u001b[0m\u001b[0;34m\u001b[0m\u001b[0m\n",
      "\u001b[0;31mAttributeError\u001b[0m: 'function' object has no attribute 'split'"
     ]
    }
   ],
   "source": [
    "draw_cv_pr_curve(xgb_clf, xgb_cv, X, y, title='Cross Validated PR Curve')"
   ]
  },
  {
   "cell_type": "code",
   "execution_count": null,
   "id": "e7ff7a1f",
   "metadata": {},
   "outputs": [],
   "source": [
    "from sklearn.model_selection import cross_val_score, KFold\n",
    "\n",
    "\n",
    "xgbc = XGBClassifier()\n",
    "xgbc.fit(X_train, y_train)\n",
    "\n",
    "# - cross validataion\n",
    "scores = cross_val_score(xgbc, X_train, y_train, cv=5)\n",
    "print(\"Mean cross-validation score: %.2f\" % scores.mean())\n",
    "\n",
    "kfold = KFold(n_splits=10, shuffle=True)\n",
    "kf_cv_scores = cross_val_score(xgbc, X_train, y_train, cv=kfold )\n",
    "print(\"K-fold CV average score: %.2f\" % kf_cv_scores.mean())"
   ]
  },
  {
   "cell_type": "code",
   "execution_count": null,
   "id": "46f2b921",
   "metadata": {},
   "outputs": [],
   "source": []
  },
  {
   "cell_type": "code",
   "execution_count": null,
   "id": "0bfb179b",
   "metadata": {},
   "outputs": [],
   "source": []
  },
  {
   "cell_type": "code",
   "execution_count": null,
   "id": "5199eb8d",
   "metadata": {},
   "outputs": [],
   "source": []
  },
  {
   "cell_type": "code",
   "execution_count": null,
   "id": "e48ab71c",
   "metadata": {},
   "outputs": [],
   "source": []
  },
  {
   "cell_type": "code",
   "execution_count": null,
   "id": "e419d6b1",
   "metadata": {},
   "outputs": [],
   "source": []
  },
  {
   "cell_type": "code",
   "execution_count": null,
   "id": "a53a4512",
   "metadata": {},
   "outputs": [],
   "source": []
  },
  {
   "cell_type": "code",
   "execution_count": null,
   "id": "6a6207b6",
   "metadata": {},
   "outputs": [],
   "source": []
  },
  {
   "cell_type": "code",
   "execution_count": null,
   "id": "a74304c6",
   "metadata": {},
   "outputs": [],
   "source": []
  }
 ],
 "metadata": {
  "kernelspec": {
   "display_name": "Python 3 (ipykernel)",
   "language": "python",
   "name": "python3"
  },
  "language_info": {
   "codemirror_mode": {
    "name": "ipython",
    "version": 3
   },
   "file_extension": ".py",
   "mimetype": "text/x-python",
   "name": "python",
   "nbconvert_exporter": "python",
   "pygments_lexer": "ipython3",
   "version": "3.9.7"
  }
 },
 "nbformat": 4,
 "nbformat_minor": 5
}
