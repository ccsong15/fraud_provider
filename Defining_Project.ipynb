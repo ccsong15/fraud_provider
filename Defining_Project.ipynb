{
 "cells": [
  {
   "cell_type": "markdown",
   "metadata": {},
   "source": [
    "**Instructions**\n",
    "1. Make sure your project is related to the business of the companies you are interested in.\n",
    "2. The project should not only be helpful to the employer's business, but also compatible with the existing tools they are using.\n",
    "2. Don’t spend time in generating brand-new ideas. Using mature methods to solve specific problem is more preferred.\n",
    "3. Don’t try to build a perfect project. Start with a Minimum Viable Product. Resources are always limited."
   ]
  },
  {
   "cell_type": "markdown",
   "metadata": {},
   "source": [
    "<font color='red'>**Question:**</font> What is the problem you would like to solve? Why is it important?"
   ]
  },
  {
   "cell_type": "markdown",
   "metadata": {},
   "source": [
    "**Example**: In direct mail marketing, tens of millions of mails are sent to potential customers. Only a very small fraction of the mail receivers respond. Most of mails are thrown into recycle bins directly. If we are able to accurately identify people who will possibly respond. We can save money in direct mail marketing or accquire more customers with given resources."
   ]
  },
  {
   "cell_type": "markdown",
   "metadata": {},
   "source": [
    ">- We would like to predict whether a provider is potentially fraudulent based on inpatient and outpatient claims data. In addition, we will also discuss which features are important in detecting the behavior of poterntially fraud providers.\n",
    ">- Provider Fraud is one of the biggest problems that healthcare is facing currently. Fraud costs the U.S. about $60 billion annually and accounts for up to 10 percent of total healthcare spending. If we are able to identify which providers are more likely to have fraud behavior, we can prevent the financial loss and protect the healthcare system so that they can provide quality and safe care to patients."
   ]
  },
  {
   "cell_type": "markdown",
   "metadata": {},
   "source": [
    "<font color='red'>**Question:**</font> How to measure the business value of your solution? What is the benchmark?"
   ]
  },
  {
   "cell_type": "markdown",
   "metadata": {},
   "source": [
    "**Example**: If our goal is saving money in direct mail marketing, the benchmark could be the current situtation in which we send mail to all the people in an area. Let's assume there are a million families in this area, only 0.1% of the people respond, and each mail costs 10 cents. If our model can successfully filter out half of the people who won't respond, we can save 50,000 dollars for each time."
   ]
  },
  {
   "cell_type": "markdown",
   "metadata": {},
   "source": [
    "Let's assume there are $3$ billion dollars from False Claims cases in the 2021 fiscal year, with $2.6$ billion dollars coming from healthcare fraud schemes, if we can identify 70% of these potential healthcare fraud providers, we can save $1.82$ billion dollars for this year."
   ]
  },
  {
   "cell_type": "markdown",
   "metadata": {},
   "source": [
    "<font color='red'>**Question:**</font> What are the metrics you will use? Why?"
   ]
  },
  {
   "cell_type": "markdown",
   "metadata": {},
   "source": [
    "**Example**: We can use AUC-ROC for model training. We will use precision and recall to measure our models, keep recall close to 100%, and maximize precision at the same time. If we can't keep recall as 100%, we need to consider the value of each customer and calculate the loss."
   ]
  },
  {
   "cell_type": "markdown",
   "metadata": {},
   "source": [
    "We will use metrics such as F1 score (the harmonic mean of precision and recall), ROC(Receiver Operating Characteristics), AUC score (Area Under ROC Curve)."
   ]
  },
  {
   "cell_type": "markdown",
   "metadata": {},
   "source": [
    "<font color='red'>**Question:**</font> What data do you need? How will you get the data?"
   ]
  },
  {
   "cell_type": "markdown",
   "metadata": {},
   "source": [
    "**Example**: Direct mail marketing data is very hard to get. So it is not suitable to be a keystone project. Make sure you are able to get the data you need before you decide to work on a project. Here are some sources to get data:  \n",
    "1. House price data from Zillow, rent price from Craigslist, resteraunt review from Yelp, product review from Amazon, etc.\n",
    "2. Some companies provide APIs like Twitter (https://developer.twitter.com/en/docs)\n",
    "3. Quite some datasets are available on Kaggle (https://www.kaggle.com/datasets)"
   ]
  },
  {
   "cell_type": "markdown",
   "metadata": {},
   "source": [
    ">- We need claims data for both outpatient and inpatient care and beneficiaries' demographic data such as gender, race, geo locations. Specifically, we need features like Claim Dates, Doctor IDs, Patient info (DOB, DOD, Gender, Chronic Conditions.. ), Procedure Codes, Diagnosis Codes, Reimbursement, Deductible , Geo Locations, Length of Hospital Stay. Our target is a binary variable: 0 - Not Potential Fraud, 1 - Potential Fraud\n",
    ">- We can get the data from Kaggle - Healthcare Provider Fraud Detection Analysis.\n",
    "\n"
   ]
  },
  {
   "cell_type": "markdown",
   "metadata": {},
   "source": [
    "<font color='red'>**Question:**</font> What algorithms will you choose for this project? Why?"
   ]
  },
  {
   "cell_type": "markdown",
   "metadata": {},
   "source": [
    "**Example**: We will use Random Forest as a benchmark algorithm, because it is very stable and able to handle nonlinear relationship between features and target. But eventually, we will use Logistic Regression with created features, because we need to keep the model interpretable to communicate with the marketing team."
   ]
  },
  {
   "cell_type": "markdown",
   "metadata": {},
   "source": [
    ">- We will use Random Forest as a benchmark algorithm, because it is very stable and able to handle nonlinear relationship between features and target.\n",
    ">- Since our data is imbalanced, we will introduce random oversampling using SMOTE to handle this problem. \n",
    ">- Then try Logistic Regression, Decision Tree and Support Vector Classifier for all these oversampled datasets. Pick the best model based on the performance score."
   ]
  },
  {
   "cell_type": "markdown",
   "metadata": {},
   "source": [
    "<font color='red'>**Question:**</font> What will be the input and output?"
   ]
  },
  {
   "cell_type": "markdown",
   "metadata": {},
   "source": [
    "**Example**: The input would be the information of people (if available) such as zipcode, household income, age, etc. The output will be 1 (will respond) or 0 (won't respond)."
   ]
  },
  {
   "cell_type": "markdown",
   "metadata": {},
   "source": [
    ">- The input would be Claim Dates, Doctor IDs, Procedure Codes, Diagnosis Codes, Reimbursement, Deductible , Geo Locations, Length of Hospital Stay and patients' demographic data such as Date of Birth, Date of Death, gender, race, geo locations, Chronic Conditions.\n",
    ">- The output would be 1 if the provider is potentially fraud or 0 if the provider is not potentially fraud."
   ]
  }
 ],
 "metadata": {
  "kernelspec": {
   "display_name": "Python 3 (ipykernel)",
   "language": "python",
   "name": "python3"
  },
  "language_info": {
   "codemirror_mode": {
    "name": "ipython",
    "version": 3
   },
   "file_extension": ".py",
   "mimetype": "text/x-python",
   "name": "python",
   "nbconvert_exporter": "python",
   "pygments_lexer": "ipython3",
   "version": "3.9.7"
  }
 },
 "nbformat": 4,
 "nbformat_minor": 2
}
